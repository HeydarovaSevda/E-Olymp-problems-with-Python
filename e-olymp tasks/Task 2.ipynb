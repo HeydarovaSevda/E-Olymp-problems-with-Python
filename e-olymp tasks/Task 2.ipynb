{
 "cells": [
  {
   "cell_type": "markdown",
   "metadata": {},
   "source": [
    "## Week 2_1 If"
   ]
  },
  {
   "cell_type": "markdown",
   "metadata": {},
   "source": [
    "1.The Olympiad started at ℎ1 hours m1 minutes s1 seconds and finished at the same calendar day at ℎ2 hours m2 minutes s2 seconds. What is the duration (hour min sec) of Olympiad?\n",
    "### Input data\n",
    "The first line contains the starting time, the second line contains the finishing time in format hour min sec(0≤ℎ1≤ℎ2≤23, 0≤m1,m2,s1,s2≤59).\n",
    "### Output data\n",
    "Print the duration of the Olympiad in format hour min sec."
   ]
  },
  {
   "cell_type": "code",
   "execution_count": 1,
   "metadata": {},
   "outputs": [
    {
     "name": "stdout",
     "output_type": "stream",
     "text": [
      "3 15 30\n"
     ]
    }
   ],
   "source": [
    "h1,m1,s1=(map(int,input().split()))\n",
    "h2,m2,s2=(map(int,input().split()))\n",
    "if(h2>=h1 and m2>=m1 and s2>=s1) :\n",
    "    print(h2-h1, m2-m1, s2-s1)\n",
    "elif(h2>=h1 and m2<=m1 and s2<=s1) :\n",
    "    print((h2-h1)-1, (m2+59)-m1, (s2+60)-s1)\n",
    "elif(h2>=h1 and m2>=m1 and s2<=s1) :\n",
    "    print(h2-h1, (m2-1)-m1, (s2+60)-s1)\n",
    "elif(h2>=h1 and m2<=m1 and s2>=s1) :\n",
    "    print((h2-h1)-1, (m2+60)-m1, s2-s1 )"
   ]
  },
  {
   "cell_type": "markdown",
   "metadata": {},
   "source": [
    "2.John is going to a tourist meeting of pupils in his school. In his class he was made responsible for the tents. At home he found 3 tents: the first one weighs a[1] kilograms and accommodates b[1] people, the second tent weighs a[2] kilograms and accommodates b[2] people, the third tent weighs a[3] kilograms and accommodates b[3] people.There are k pupils in John's class. Find out if John can choose tents such that all people can fit in them. Take into account that the selected tents should weigh no more than w kilograms in total.\n",
    "### Input data\n",
    "The first line contains two integers k and w (1 ≤ k ≤ 15, 1 ≤ w ≤ 30). The second line contains six integers: a[1], b[1], a[2], b[2], a[3], b[3]  (1 ≤a[1], a[2], a[3] ≤ 10, 1 ≤ b[1], b[2], b[3] ≤ 15).\n",
    "### Output data\n",
    "Print YES if it is possible to choose tents as desired, and NO otherwise."
   ]
  },
  {
   "cell_type": "code",
   "execution_count": 3,
   "metadata": {},
   "outputs": [
    {
     "name": "stdout",
     "output_type": "stream",
     "text": [
      "NO\n"
     ]
    }
   ],
   "source": [
    "k,w=(map(int,input().split()))\n",
    "a1,b1,a2,b2,a3,b3=(map(int,input().split()))\n",
    "if(b1+b2+b3>=k and a1+a2+a3<=w):\n",
    "    print(\"YES\")\n",
    "elif(b1>=k and a1<=w):\n",
    "    print(\"YES\")\n",
    "elif(b2>=k and a2<=w):\n",
    "    print(\"YES\")\n",
    "elif(b3>=k and a3<=w):\n",
    "    print(\"YES\")\n",
    "elif((b1+b2)>=k and (a1+a2)<=w):\n",
    "    print(\"YES\")\n",
    "elif((b1+b3)>=k and (a1+a3)<=w):\n",
    "    print(\"YES\")\n",
    "elif((b2+b3)>=k and (a2+a3)<=w):\n",
    "    print(\"YES\")\n",
    "else:\n",
    "    print(\"NO\")"
   ]
  },
  {
   "cell_type": "markdown",
   "metadata": {},
   "source": [
    "3.On Christmas, in the evening, there were three flowers in the window, from left to right: geranium, crocus and violet. Every morning Masha cleans the dust and changes position of the right flower with central one. In the afternoon, Tanya waters the flowers and swaps left and central flowers. Print the order of the flowers after k days, at night.\n",
    "### Input data\n",
    "The first line contains a number of test cases t (1 ≤ t ≤ 12). Each of the following t lines contains the number of days k (1 ≤ k ≤ 1000).\n",
    "### Output data\n",
    "Print for each test case in a separate line three Latin letters \"G\", \"C\" and \"V\" (capital letters, no spaces) representing the order of flowers in k days (from left to right). Here G stands for geranium, C for crocus and V for violet."
   ]
  },
  {
   "cell_type": "code",
   "execution_count": 5,
   "metadata": {},
   "outputs": [
    {
     "name": "stdout",
     "output_type": "stream",
     "text": [
      "VGC\n",
      "CVG\n"
     ]
    }
   ],
   "source": [
    "t=int(input())\n",
    "for i in range(0,t):\n",
    "    k=int(input())\n",
    "    if(k%3==0):\n",
    "        print(\"GCV\")\n",
    "    elif(k%3==1):\n",
    "        print(\"VGC\")\n",
    "    elif(k%3==2):\n",
    "        print(\"CVG\")"
   ]
  },
  {
   "cell_type": "markdown",
   "metadata": {},
   "source": [
    "4.Professor Samodelkin plans to make cubes out of white bars. The length of each cube side is 1 dm. After producing cubes professor decided to make all them white. How many cubes of side 1 dm will be able to make professor out of one bar, and how many faces he has to paint, if it is known that the lengths of bar sides are integers, and also given in decimetres.\n",
    "### Input data\n",
    "Three integers - the sizes of the bar in dm, not greater than 10^6.\n",
    "### Output data\n",
    "Print the number of received cubes and the number of faces to be painted."
   ]
  },
  {
   "cell_type": "code",
   "execution_count": 6,
   "metadata": {},
   "outputs": [
    {
     "name": "stdout",
     "output_type": "stream",
     "text": [
      "6 14\n"
     ]
    }
   ],
   "source": [
    "a,b,c=(map(int,input().split()))\n",
    "v1=a*b*c\n",
    "v2=1\n",
    "n=v1//v2\n",
    "s1=2*(a*b+a*c+b*c)\n",
    "s2=n*6\n",
    "p=s2-s1\n",
    "print(n,p)"
   ]
  },
  {
   "cell_type": "markdown",
   "metadata": {},
   "source": [
    "5.Your favorite uncle is the director of the company that makes renovation in offices. In connection with the financial and economic crisis, the uncle decided to optimize his business. It has long been rumored that the team leader in the uncle's firm buys the excess amount of building materials, and the remainder is used to furnish his new house. Your uncle is interested how many cans of paint he needs to paint the walls in the office of length l meters, width of w and height of h, if one can of paint enough for 16 m^2, and the size of doors and windows can be ignored? There is a lot of orders, so my uncle asked to write a program that will calculate everything.\n",
    "### Input data\n",
    "The first line contains the number of orders. Description of each order consists of three positive integers l, w, h – the length, width and height of the office in meters, respectively\n",
    "### Output data\n",
    "For each order print in a separate line the number of cans of paint needed to paint the office."
   ]
  },
  {
   "cell_type": "code",
   "execution_count": 7,
   "metadata": {},
   "outputs": [
    {
     "name": "stdout",
     "output_type": "stream",
     "text": [
      "4\n",
      "1\n"
     ]
    }
   ],
   "source": [
    "t=int(input())\n",
    "for i in range(0,t):\n",
    "    L,W,H=(map(int,input().split()))\n",
    "    s=2*H*(L+W)\n",
    "    \n",
    "    if(s%16==0):\n",
    "        k=s//16\n",
    "        print(k)\n",
    "    else:\n",
    "        k=(s//16)+1\n",
    "        print(k)"
   ]
  },
  {
   "cell_type": "markdown",
   "metadata": {},
   "source": [
    "6.Vasilyek know that St. Nicholas starts to deliver gifts when it gets dark, and finishes when it dawns. He wonders: how much time will have Nicholas to deliver all his gifts.\n",
    "### Input data\n",
    "In a single line given t[1] and t[2] - time when Nicholas starts and when finishes to deliver presents in format hh:mm:ss.\n",
    "### Output data\n",
    "Print the time that St. Nicholas uses to deliver gifts in the format hh:mm:ss. It is guaranteed that this time does not exceed 12 hours."
   ]
  },
  {
   "cell_type": "code",
   "execution_count": 8,
   "metadata": {},
   "outputs": [
    {
     "name": "stdout",
     "output_type": "stream",
     "text": [
      "02:00:00\n"
     ]
    }
   ],
   "source": [
    "s=input()\n",
    "n=s.split()\n",
    "t1=n[0].split(\":\")\n",
    "t2=n[1].split(\":\")\n",
    "\n",
    "h1=int(t1[0])\n",
    "m1=int(t1[1])\n",
    "s1=int(t1[2])\n",
    "h2=int(t2[0])\n",
    "m2=int(t2[1])\n",
    "s2=int(t2[2])\n",
    "w1=h1*3600+m1*60+s1\n",
    "w2=h2*3600+m2*60+s2\n",
    "if(w2-w1>0):\n",
    "    w=w2-w1\n",
    "elif(w2-w1<0):\n",
    "    w=w2-w1+24*3600\n",
    "if(w//3600<10):\n",
    "    hh=\"0\"+str(w//3600)+\":\"\n",
    "else:\n",
    "    hh=str(w//3600)+\":\"\n",
    "w=w%3600\n",
    "if(w//60<10):\n",
    "    mm=\"0\"+str(w//60)+\":\"\n",
    "else:\n",
    "    mm=str(w//60)+\":\"\n",
    "w=w%60\n",
    "if(w<10):\n",
    "    ss=\"0\"+str(w)\n",
    "else:\n",
    "    ss=str(w)\n",
    "print(hh+mm+ss)"
   ]
  },
  {
   "cell_type": "markdown",
   "metadata": {},
   "source": [
    "7.Three digit number is given. What digit is bigger: the first digit or the last digit?\n",
    "### Input data\n",
    "One three digit number.\n",
    "### Output data\n",
    "Print the bigger digit between first and last. In case of equality, print \"=\" (without quotes)."
   ]
  },
  {
   "cell_type": "code",
   "execution_count": 11,
   "metadata": {},
   "outputs": [
    {
     "name": "stdout",
     "output_type": "stream",
     "text": [
      "8\n"
     ]
    }
   ],
   "source": [
    "a=int(input())\n",
    "fd=a//100\n",
    "ld=a%10\n",
    "if(fd>ld):\n",
    "    print(fd)\n",
    "elif(fd<ld):\n",
    "    print(ld)\n",
    "else:\n",
    "    print(\"=\")"
   ]
  },
  {
   "cell_type": "markdown",
   "metadata": {},
   "source": [
    "8.Solve a quadratic equation a⋅x^2+b⋅x+c=0 (a!=0).\n",
    "### Input data\n",
    "One line contains three integers — the coefficients of quadratic equation are given in one line: a,b and c.\n",
    "### Output data\n",
    "Print in one line the message \"No roots\" if there are no roots. If equation contains only one root, print \"One root:\", space and a root. In the case of two roots, print \"Two roots:\", space, first smaller, and then larger root. It is guaranteed that if the roots exist, they are integers."
   ]
  },
  {
   "cell_type": "code",
   "execution_count": 13,
   "metadata": {},
   "outputs": [
    {
     "name": "stdout",
     "output_type": "stream",
     "text": [
      "Two roots: -3 -2\n"
     ]
    }
   ],
   "source": [
    "from math import sqrt\n",
    "a,b,c = (map (int, input ().split ())) \n",
    "d =b**2 - 4 * a * c\n",
    "\n",
    "if (d==0):\n",
    "    root = ((-b) - d) // (2 * a)\n",
    "    print ('One root: ' + str(root))\n",
    "\n",
    "elif(d>0):\n",
    "    root1 = ((-b) - sqrt(d)) // (2 * a)\n",
    "    root2 = ((-b) + sqrt(d)) // (2 * a)\n",
    "    if(root1>root2):\n",
    "        print ('Two roots: %d %d' % (root2,root1))\n",
    "    elif(root2>root1):\n",
    "        print ('Two roots: %d %d' % (root1,root2))\n",
    "else:\n",
    "    print ('No roots')"
   ]
  },
  {
   "cell_type": "markdown",
   "metadata": {},
   "source": [
    "9.Determine the season name by the month number using the compound conditions.\n",
    "### Input data\n",
    "The number of the month.\n",
    "### Output data\n",
    "For spring months print Spring, for summer - Summer, for autumn - Autumn and for winter - Winter."
   ]
  },
  {
   "cell_type": "code",
   "execution_count": 16,
   "metadata": {},
   "outputs": [
    {
     "name": "stdout",
     "output_type": "stream",
     "text": [
      "Autumn\n"
     ]
    }
   ],
   "source": [
    "n=int(input())\n",
    "if(n==12 or n==1 or n==2):\n",
    "    print('Winter')\n",
    "elif(n==3 or n==4 or n==5):\n",
    "    print('Spring')\n",
    "elif(n==6 or n==7 or n==8):\n",
    "    print('Summer')\n",
    "elif(n==9 or n==10 or n==11):\n",
    "    print('Autumn')\n",
    "else:\n",
    "    print('There is no such month number')"
   ]
  },
  {
   "cell_type": "markdown",
   "metadata": {},
   "source": [
    "10.The dimensions of the wardrobe are a × b × c. Is it possible to carry it through the doorway of the size x × y? The wardrobe can be carried through the doorway, if its corresponding dimensions are not greater than the dimensions of the door.\n",
    "### Input data\n",
    "Integer numbers a, b, c, x, y \n",
    "### Output data\n",
    "Print \"YES\", if its possible to carry the wardrobe, and \"NO\" otherwise."
   ]
  },
  {
   "cell_type": "code",
   "execution_count": 18,
   "metadata": {},
   "outputs": [
    {
     "name": "stdout",
     "output_type": "stream",
     "text": [
      "YES\n"
     ]
    }
   ],
   "source": [
    "a,b,c,x,y=(map(int,input().split()))\n",
    "if((x>=a and y>=b) or (x>=b and y>=a) or (x>=a and y>=c) or (x>=c and y>=a) or (x>=b and y>=c) or (x>=c and y>=b)):\n",
    "    print(\"YES\")\n",
    "else:\n",
    "    print(\"NO\")"
   ]
  }
 ],
 "metadata": {
  "kernelspec": {
   "display_name": "base",
   "language": "python",
   "name": "python3"
  },
  "language_info": {
   "codemirror_mode": {
    "name": "ipython",
    "version": 3
   },
   "file_extension": ".py",
   "mimetype": "text/x-python",
   "name": "python",
   "nbconvert_exporter": "python",
   "pygments_lexer": "ipython3",
   "version": "3.11.4"
  }
 },
 "nbformat": 4,
 "nbformat_minor": 2
}
