{
 "cells": [
  {
   "cell_type": "markdown",
   "metadata": {},
   "source": [
    "## WEEK4_1 CHAR AND STRINGS"
   ]
  },
  {
   "cell_type": "markdown",
   "metadata": {},
   "source": [
    "1.There is some sentence in unknown language. You need to count the number of words in it. The letters of the alphabet in unknown language are the letters of the Latin alphabet and Arabian digits. It is guaranteed, that other symbols, except blanks and punctuation marks, are not present in sentence.\n",
    "### Input data\n",
    "One line with a sentence in unknown language.\n",
    "### Output data\n",
    "Print the number of words in the sentence."
   ]
  },
  {
   "cell_type": "code",
   "execution_count": 12,
   "metadata": {},
   "outputs": [
    {
     "name": "stdout",
     "output_type": "stream",
     "text": [
      "5\n"
     ]
    }
   ],
   "source": [
    "s=input()\n",
    "k=0\n",
    "for i in range(1,len(s)):\n",
    "    if s[i]!='-' and s[i]!='\\'' and (not s[i].isalnum() ):\n",
    "        if s[i-1].isalnum():\n",
    "            k+=1\n",
    "print(k)"
   ]
  },
  {
   "cell_type": "markdown",
   "metadata": {},
   "source": [
    "2.By the vowel letters in the Latin alphabet are the letters A, E, I, O, U and Y. The remaining letters are consonants. Write a program counting the number of vowels in the text.\n",
    "### Input data\n",
    "In the input file contains one line of text, consisting only of capital Latin letters and spaces.\n",
    "### Output data\n",
    "In the output file output one integer - the number of vowels in the input text."
   ]
  },
  {
   "cell_type": "code",
   "execution_count": 13,
   "metadata": {},
   "outputs": [
    {
     "name": "stdout",
     "output_type": "stream",
     "text": [
      "5\n"
     ]
    }
   ],
   "source": [
    "a=input()\n",
    "list1=[i for i in a]\n",
    "c=0\n",
    "for j in list1:\n",
    "    if j=='A' or j=='E' or j=='I' or j=='O' or j=='U' or j=='Y':\n",
    "        c=c+1\n",
    "print(c)"
   ]
  },
  {
   "cell_type": "markdown",
   "metadata": {},
   "source": [
    "3.Find the total quantity of operations of addition(+), subtraction(−) and multiplication(∗) in the given arithmetic expression.\n",
    "### Input data\n",
    "The arithmetic expression is given in one line, that does not contain brackets and spaces. \n",
    "### Output data\n",
    "Print the number of the specified operations."
   ]
  },
  {
   "cell_type": "code",
   "execution_count": 14,
   "metadata": {},
   "outputs": [
    {
     "name": "stdout",
     "output_type": "stream",
     "text": [
      "3\n"
     ]
    }
   ],
   "source": [
    "a=input()\n",
    "lst=[i for i in a]\n",
    "c=0\n",
    "if lst[0]=='-' or lst[0]=='+':\n",
    "    lst[0]=''\n",
    "for j in lst:\n",
    "    if j=='-' or j=='+' or j=='*':\n",
    "        c+=1\n",
    "print(c)"
   ]
  },
  {
   "cell_type": "markdown",
   "metadata": {},
   "source": [
    "4.Find the number of words in the given text.\n",
    "### Input data\n",
    "The English text is given in one line.It is guaranteed that the text does not contain dashes, hyphens, digits, or numbers.\n",
    "### Output data\n",
    "Print the number of words in the text."
   ]
  },
  {
   "cell_type": "code",
   "execution_count": 15,
   "metadata": {},
   "outputs": [
    {
     "name": "stdout",
     "output_type": "stream",
     "text": [
      "4\n"
     ]
    }
   ],
   "source": [
    "a=input()\n",
    "b=a.split()\n",
    "c=len(b)\n",
    "print(c)"
   ]
  },
  {
   "cell_type": "markdown",
   "metadata": {},
   "source": [
    "5.Find the number of sentences in the given fragment of the text.\n",
    "### Input data\n",
    "Unique line contains the text fragment in English. It is guaranteed that the text has no dash, hyphens, digits and numbers.\n",
    "### Output data\n",
    "Print the number of sentences in the text fragment."
   ]
  },
  {
   "cell_type": "code",
   "execution_count": 17,
   "metadata": {},
   "outputs": [
    {
     "name": "stdout",
     "output_type": "stream",
     "text": [
      "2\n"
     ]
    }
   ],
   "source": [
    "a=input()\n",
    "n=len(a)\n",
    "c=0\n",
    "for i in range(1,n):\n",
    "    if a[i]=='!' or a[i]=='?' or a[i]=='.': \n",
    "        if a[i-1].isalpha():\n",
    "            c+=1\n",
    "print(c)"
   ]
  },
  {
   "cell_type": "markdown",
   "metadata": {},
   "source": [
    "6.Mobile phone number is set. Define, what digits are absent in this number.\n",
    "### Input data\n",
    "In a unique line set mobile phone number.\n",
    "### Output data\n",
    "In the first line deduce quantity of digits absent in number. In the second line in ascending order deduce the absent digits parted by a blank."
   ]
  },
  {
   "cell_type": "code",
   "execution_count": 18,
   "metadata": {},
   "outputs": [
    {
     "name": "stdout",
     "output_type": "stream",
     "text": [
      "3\n",
      "5 7 9 "
     ]
    }
   ],
   "source": [
    "n=input()\n",
    "a=len(n)\n",
    "b=[0 for i in range(10)]\n",
    "for i in range(a):\n",
    "    if n[i].isdigit():\n",
    "        b[int(n[i])]=1\n",
    "    \n",
    "k=0\n",
    "for i in range(10):\n",
    "    if b[i]==0:\n",
    "        k=k+1\n",
    "print(k)\n",
    "\n",
    "for i in range(10):\n",
    "    if b[i]==0:\n",
    "        print(i,end=\" \")"
   ]
  },
  {
   "cell_type": "markdown",
   "metadata": {},
   "source": [
    "7.Vasya wants to print on your printer pyramid of some sort of symbol height h. Write a program that will help him in this, not forgetting that the program must be \"economically viable\", i.e. to print the least amount of characters.Examples of pyramids are shown in the examples of input and output data. For clarity, printed blanks are replaced by point.\n",
    "### Input data\n",
    "In a single line given first symbol, by which must be printed pyramid, and then through a gap and a positive integer specifying the height of the pyramid h.\n",
    "### Output data\n",
    "In the first line print the total number of \"printing\" characters and below the pyramid itself."
   ]
  },
  {
   "cell_type": "code",
   "execution_count": 19,
   "metadata": {},
   "outputs": [
    {
     "name": "stdout",
     "output_type": "stream",
     "text": [
      "117\n",
      "        M\n",
      "       MMM\n",
      "      MMMMM\n",
      "     MMMMMMM\n",
      "    MMMMMMMMM\n",
      "   MMMMMMMMMMM\n",
      "  MMMMMMMMMMMMM\n",
      " MMMMMMMMMMMMMMM\n",
      "MMMMMMMMMMMMMMMMM\n"
     ]
    }
   ],
   "source": [
    "a,b=input().split()\n",
    "i=int(b)\n",
    "ii=i-1\n",
    "b=' '\n",
    "j=1\n",
    "cb=0\n",
    "cc=0\n",
    "n=1\n",
    "for k in range(ii,-1,-1):\n",
    "    cb=cb+k\n",
    "    cc=cc+n\n",
    "    n=n+2\n",
    "print(cb+cc)\n",
    "for k in range(ii,-1,-1):\n",
    "    print((k*b)+(j*a))\n",
    "    j=j+2"
   ]
  },
  {
   "cell_type": "markdown",
   "metadata": {},
   "source": [
    "8.Palindrome is a sequence of characters that reads the same backwards as well as forwards. Find out whether the given text is a palindrome. Do not forget that space is not pronounced when reading.\n",
    "### Input data\n",
    "String S consists of small Latin letters and spaces. \n",
    "### Output data\n",
    "Print \"YES\" if the text is a palindrome and \"NO\" otherwise."
   ]
  },
  {
   "cell_type": "code",
   "execution_count": 20,
   "metadata": {},
   "outputs": [
    {
     "name": "stdout",
     "output_type": "stream",
     "text": [
      "YES\n"
     ]
    }
   ],
   "source": [
    "s=input()\n",
    "n=len(s)\n",
    "i=0\n",
    "j=n-1\n",
    "k=0\n",
    "while i<=j:\n",
    "    while(s[i]==' '):\n",
    "        i+=1\n",
    "    while(s[j]==' '):\n",
    "        j-=1\n",
    "    if s[i]!=s[j]:\n",
    "        k=1\n",
    "        break\n",
    "    \n",
    "    i+=1\n",
    "    j-=1\n",
    "    \n",
    "    \n",
    "if k==0:\n",
    "   print(\"YES\")\n",
    "else:\n",
    "   print(\"NO\")"
   ]
  },
  {
   "cell_type": "markdown",
   "metadata": {},
   "source": [
    "9.Two friends came to Vasyl with great news: they won in lottery n rubles. Since the lottery ticket was obtained as a short change during the overall purchase in the store, it was impossible to determine its owner. So it was decided to split the prize equally. Vasil wants to know whether its possible to divide the prize fairly.\n",
    "### Input data\n",
    "One positive integer n.\n",
    "### Output data\n",
    "Print \"YES\" if the given number is divisible by 3, and \"NO\" otherwise."
   ]
  },
  {
   "cell_type": "code",
   "execution_count": 22,
   "metadata": {},
   "outputs": [
    {
     "name": "stdout",
     "output_type": "stream",
     "text": [
      "NO\n"
     ]
    }
   ],
   "source": [
    "n=input()\n",
    "lst=[int(i) for i in n]\n",
    "summ=sum(lst)\n",
    "if summ%3==0:\n",
    "    print(\"YES\")\n",
    "else:\n",
    "    print(\"NO\")"
   ]
  },
  {
   "cell_type": "markdown",
   "metadata": {},
   "source": [
    "10.Julius Caesar used his own method of encrypting text. Each letter is replaced by the following in alphabetical order by k positions in the circle. Given an encrypted text. Determine its original text.\n",
    "### Input data\n",
    "The first line contains the encrypted text containing no more than 255 Latin capital letters. The second line contains integer k.\n",
    "### Output data\n",
    "Print the result of decoding."
   ]
  },
  {
   "cell_type": "code",
   "execution_count": 24,
   "metadata": {},
   "outputs": [
    {
     "name": "stdout",
     "output_type": "stream",
     "text": [
      "WORD"
     ]
    }
   ],
   "source": [
    "s=input()\n",
    "k=int(input())\n",
    "n=len(s)\n",
    "for i in range(0,n):\n",
    " if ord(s[i])-k < 65:\n",
    "  print(chr(ord(s[i])-k+26),end='')\n",
    " else:\n",
    "  print(chr(ord(s[i])-k),end='')\n",
    "  "
   ]
  },
  {
   "cell_type": "markdown",
   "metadata": {},
   "source": [
    "11.Given a string. Write a program that will remove that line from all the extra spaces. A space will be assumed odd, if:\n",
    "\n",
    "It is at the beginning of the line, until the first word;\n",
    "it is in the end of the line after the last word;\n",
    "More spaces are located between two words (in other words, if the words are separated by more than one space, then all spaces except one - extra).\n",
    "### Input data\n",
    "Given a string S. The string contains only letters and spaces.\n",
    "### Output data\n",
    "Print a string without extra spaces."
   ]
  },
  {
   "cell_type": "code",
   "execution_count": 25,
   "metadata": {},
   "outputs": [
    {
     "name": "stdout",
     "output_type": "stream",
     "text": [
      "Sevda Heydarova\n"
     ]
    }
   ],
   "source": [
    "s=input()\n",
    "b=\" \".join(s.split())\n",
    "print(b)"
   ]
  },
  {
   "cell_type": "markdown",
   "metadata": {},
   "source": [
    "12.The word is an anagram of another word, if it can be obtained by rearrangement of its letters.\n",
    "### Input data\n",
    "Two words are given in different lines. The words consist of lowercase letters and digits.\n",
    "### Output data\n",
    "Print \"YES\" if the words are anagrams of each other and \"NO\" otherwise."
   ]
  },
  {
   "cell_type": "code",
   "execution_count": 26,
   "metadata": {},
   "outputs": [
    {
     "name": "stdout",
     "output_type": "stream",
     "text": [
      "YES\n"
     ]
    }
   ],
   "source": [
    "a=input()\n",
    "b=input()\n",
    "lst1=[i for i in a]\n",
    "lst2=[j for j in b]\n",
    "str1=''.join(sorted(lst1))\n",
    "str2=''.join(sorted(lst2))\n",
    "if str1==str2:\n",
    "    print(\"YES\")\n",
    "else:\n",
    "    print(\"NO\")"
   ]
  }
 ],
 "metadata": {
  "kernelspec": {
   "display_name": "Python 3",
   "language": "python",
   "name": "python3"
  },
  "language_info": {
   "codemirror_mode": {
    "name": "ipython",
    "version": 3
   },
   "file_extension": ".py",
   "mimetype": "text/x-python",
   "name": "python",
   "nbconvert_exporter": "python",
   "pygments_lexer": "ipython3",
   "version": "3.11.4"
  }
 },
 "nbformat": 4,
 "nbformat_minor": 2
}
