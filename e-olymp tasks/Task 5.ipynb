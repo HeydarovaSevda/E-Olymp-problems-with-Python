{
 "cells": [
  {
   "cell_type": "markdown",
   "metadata": {},
   "source": [
    "## WEEK 2_4 IF"
   ]
  },
  {
   "cell_type": "markdown",
   "metadata": {},
   "source": [
    "1.Find the value of y according to condition: 𝑦={(𝑥+5, 𝑥<-4),(𝑥^2-3x, -4≤𝑥≤7),(x^3+2x,x>7)}\n",
    "### Input data\n",
    "One integer x\n",
    "### Output data\n",
    "Print the value of y according to the conditional statement above."
   ]
  },
  {
   "cell_type": "code",
   "execution_count": 1,
   "metadata": {},
   "outputs": [
    {
     "name": "stdout",
     "output_type": "stream",
     "text": [
      "28\n"
     ]
    }
   ],
   "source": [
    "x=int(input())\n",
    "if(x<-4):\n",
    "    y=x+5\n",
    "    print(y)\n",
    "elif(x>=-4 and x<=7):\n",
    "    y=pow(x,2)-3*x\n",
    "    print(y)\n",
    "else:\n",
    "    y=pow(x,3)+2*x\n",
    "    print(y)"
   ]
  },
  {
   "cell_type": "markdown",
   "metadata": {},
   "source": [
    "2.Given positive integer n. Is is divisible simultaneously by a and by b?\n",
    "### Input data\n",
    "Three positive integers n, a, b\n",
    "### Output data\n",
    "Print \"YES\" if n is divisible simultaneously by a and by b. Print \"NO\" otherwise."
   ]
  },
  {
   "cell_type": "code",
   "execution_count": 4,
   "metadata": {},
   "outputs": [
    {
     "name": "stdout",
     "output_type": "stream",
     "text": [
      "NO\n"
     ]
    }
   ],
   "source": [
    "n,a,b=(map(int,input().split()))\n",
    "if(n%a==0 and n%b==0):\n",
    "    print(\"YES\")\n",
    "else:\n",
    "    print(\"NO\")"
   ]
  },
  {
   "cell_type": "markdown",
   "metadata": {},
   "source": [
    "3.Find the value of the function sgn: sgn(x)={(1, x>0),(0,x=0),(-1,x<0)}\n",
    "### Input data\n",
    "One integer x \n",
    "### Output data\n",
    "Print the value of the function sgn for the given value of x."
   ]
  },
  {
   "cell_type": "code",
   "execution_count": 7,
   "metadata": {},
   "outputs": [
    {
     "name": "stdout",
     "output_type": "stream",
     "text": [
      "-1\n"
     ]
    }
   ],
   "source": [
    "x=int(input())\n",
    "if(x>0):\n",
    "    sign=1\n",
    "    print(sign)\n",
    "elif(x==0):\n",
    "    sign=0\n",
    "    print(sign)\n",
    "else:\n",
    "    sign=-1\n",
    "    print(sign)"
   ]
  },
  {
   "cell_type": "markdown",
   "metadata": {},
   "source": [
    "4.The pail filled with water was put outside the house. The temperature of the air is t degrees. Print \"Water\" if t is positive and \"Ice\" otherwise.\n",
    "### Input data\n",
    "One integer value t\n",
    "### Output data\n",
    "Print \"Water\" if t is positive and \"Ice\" if t is zero or negative."
   ]
  },
  {
   "cell_type": "code",
   "execution_count": 8,
   "metadata": {},
   "outputs": [
    {
     "name": "stdout",
     "output_type": "stream",
     "text": [
      "Ice\n"
     ]
    }
   ],
   "source": [
    "t=int(input())\n",
    "if(t>0):\n",
    "    print(\"Water\")\n",
    "elif(t<=0):\n",
    "    print(\"Ice\")"
   ]
  },
  {
   "cell_type": "markdown",
   "metadata": {},
   "source": [
    "5.Find the value of y according to condition: 𝑦={(𝑥^3+2x^2+4x-6, 𝑥≥0),(𝑥^3-7x, x<0)}\n",
    "### Input data\n",
    "One integer x\n",
    "### Output data\n",
    "Print the value of y according to the conditional statement above."
   ]
  },
  {
   "cell_type": "code",
   "execution_count": 9,
   "metadata": {},
   "outputs": [
    {
     "name": "stdout",
     "output_type": "stream",
     "text": [
      "6\n"
     ]
    }
   ],
   "source": [
    "x=int(input())\n",
    "if(x>=0):\n",
    "    y=pow(x,3)+2*pow(x,2)+4*x-6\n",
    "    print(y)\n",
    "else:\n",
    "    y=pow(x,3)-7*x\n",
    "    print(y)"
   ]
  },
  {
   "cell_type": "markdown",
   "metadata": {},
   "source": [
    "6.Find the value of y according to condition: 𝑦={(3𝑥^3+4x^2+5x+6, 𝑥≥13),(3𝑥^3-2x^2-3x-4, x<13)}\n",
    "### Input data\n",
    "One integer x\n",
    "### Output data\n",
    "Print the value of y according to the conditional statement above."
   ]
  },
  {
   "cell_type": "code",
   "execution_count": 11,
   "metadata": {},
   "outputs": [
    {
     "name": "stdout",
     "output_type": "stream",
     "text": [
      "-4206\n"
     ]
    }
   ],
   "source": [
    "x=int(input())\n",
    "if(x>=13):\n",
    "    y=3*pow(x,3)+4*pow(x,2)+5*x+6\n",
    "    print(y)\n",
    "else:\n",
    "    y=3*pow(x,3)-2*pow(x,2)-3*x-4\n",
    "    print(y)"
   ]
  },
  {
   "cell_type": "markdown",
   "metadata": {},
   "source": [
    "7.Determine whether the number x belongs to the interval [a;b].\n",
    "### Input data\n",
    "Three integers x,a,b\n",
    "### Output data\n",
    "Print \"YES\", if the number x belongs to the interval [a;b]. Otherwise print \"NO\"."
   ]
  },
  {
   "cell_type": "code",
   "execution_count": 13,
   "metadata": {},
   "outputs": [
    {
     "name": "stdout",
     "output_type": "stream",
     "text": [
      "YES\n"
     ]
    }
   ],
   "source": [
    "x,a,b=(map(int,input().split()))\n",
    "if(x>=a and x<=b):\n",
    "    print(\"YES\")\n",
    "else:\n",
    "    print(\"NO\")"
   ]
  },
  {
   "cell_type": "markdown",
   "metadata": {},
   "source": [
    "8.Determine whether the number x is located outside the interval [a;b].\n",
    "### Input data\n",
    "Three integers x,a,b\n",
    "### Output data\n",
    "Print \"OUT\", if the number x is located outside the interval [a;b]. Otherwise print \"IN\"."
   ]
  },
  {
   "cell_type": "code",
   "execution_count": 14,
   "metadata": {},
   "outputs": [
    {
     "name": "stdout",
     "output_type": "stream",
     "text": [
      "OUT\n"
     ]
    }
   ],
   "source": [
    "x,a,b=(map(int,input().split()))\n",
    "if(x>=a and x<=b):\n",
    "    print(\"IN\")\n",
    "else:\n",
    "    print(\"OUT\")"
   ]
  }
 ],
 "metadata": {
  "kernelspec": {
   "display_name": "base",
   "language": "python",
   "name": "python3"
  },
  "language_info": {
   "codemirror_mode": {
    "name": "ipython",
    "version": 3
   },
   "file_extension": ".py",
   "mimetype": "text/x-python",
   "name": "python",
   "nbconvert_exporter": "python",
   "pygments_lexer": "ipython3",
   "version": "3.11.4"
  }
 },
 "nbformat": 4,
 "nbformat_minor": 2
}
