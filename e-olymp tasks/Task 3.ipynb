{
 "cells": [
  {
   "cell_type": "markdown",
   "metadata": {},
   "source": [
    "## Week 2_2 IF"
   ]
  },
  {
   "cell_type": "markdown",
   "metadata": {},
   "source": [
    "1.Everyone knows the so-called Dirichlet principle, which reads as follows:\n",
    "Suppose that a certain number of rabbits are planted in the cells. If the number of rabbits more than the number of cells, at least in one cell will be more than one rabbit. In this problem, we consider the more general case of the classical mathematical fact. Suppose there are n cells and m rabbits, which are seated in these cells. Calculate the maximum number of rabbits that is guaranteed to be in the same cell.\n",
    "### Input data\n",
    "One line contains two positive integers n and m \n",
    "### Output data\n",
    "Print the maximum number of rabbits that is guaranteed to be in the same cell."
   ]
  },
  {
   "cell_type": "code",
   "execution_count": 1,
   "metadata": {},
   "outputs": [
    {
     "name": "stdout",
     "output_type": "stream",
     "text": [
      "2\n"
     ]
    }
   ],
   "source": [
    "n,m=(map(int,input().split()))\n",
    "k=(n+m-1)//n\n",
    "print(k)"
   ]
  },
  {
   "cell_type": "markdown",
   "metadata": {},
   "source": [
    "2.Given three integers a, b, c. Determine is there among them exist at least one even and at least one odd number.\n",
    "### Input data\n",
    "The numbers a, b, c (numbers can be negative).\n",
    "### Output data\n",
    "Print \"YES\" or \"NO\"."
   ]
  },
  {
   "cell_type": "code",
   "execution_count": 3,
   "metadata": {},
   "outputs": [
    {
     "name": "stdout",
     "output_type": "stream",
     "text": [
      "YES\n"
     ]
    }
   ],
   "source": [
    "a,b,c=(map(int,input().split()))\n",
    "if(a%2==0 and b%2==0 and c%2==0):\n",
    "    print('NO')\n",
    "elif(a%2==1 and b%2==1 and c%2==1):\n",
    "    print('NO')\n",
    "elif(a%2==1 and b%2==0 and c%2==0):\n",
    "    print('YES')\n",
    "elif(a%2==0 and b%2==1 and c%2==1):\n",
    "    print('YES')\n",
    "elif(a%2==0 and b%2==0 and c%2==1):\n",
    "    print('YES')\n",
    "elif(a%2==1 and b%2==1 and c%2==0):\n",
    "    print('YES')\n",
    "elif(a%2==1 and b%2==0 and c%2==1):\n",
    "    print('YES')\n",
    "else:\n",
    "    print('YES')"
   ]
  },
  {
   "cell_type": "markdown",
   "metadata": {},
   "source": [
    "3.In order to access the Internet, each computer is assigned a so-called IP-address. It consists of four integers in the range from 0 to 255 separated by dots. The next three lines show three valid IP-address:\n",
    "127.0.0.0\n",
    "192.168.0.01\n",
    "255.00.255.255\n",
    "Write a program that determines whether a given string is a valid IP-address.\n",
    "### Input data\n",
    "The input to the program served a string which includes figures and exactly three points.\n",
    "### Output data\n",
    "If the string is a valid IP-address, you must withdraw 1, 0 otherwise."
   ]
  },
  {
   "cell_type": "code",
   "execution_count": 5,
   "metadata": {},
   "outputs": [
    {
     "name": "stdout",
     "output_type": "stream",
     "text": [
      "0\n"
     ]
    }
   ],
   "source": [
    "a,b,c,d=input().split(\".\")\n",
    "if a==\"\" or b==\"\" or c==\"\" or d==\"\":\n",
    "    print(0)\n",
    "elif int(a)>=0 and int(a)<=255 and int(b)>=0 and int(b)<=255 and int(c)>=0 and int(c)<=255 and int(d)>=0 and int(d)<=255:\n",
    "    print(1)\n",
    "else:\n",
    "    print(0)"
   ]
  },
  {
   "cell_type": "markdown",
   "metadata": {},
   "source": [
    "4.Find the sum of odd numbers in the range from а to b.\n",
    "### Input data\n",
    "Two integers a and b\n",
    "### Output data\n",
    "Print the sum of odd numbers in the range from а to b."
   ]
  },
  {
   "cell_type": "code",
   "execution_count": 6,
   "metadata": {},
   "outputs": [
    {
     "name": "stdout",
     "output_type": "stream",
     "text": [
      "8\n"
     ]
    }
   ],
   "source": [
    "a,b=(map(int,input().split()))\n",
    "if(a%2==0 and b%2==0):\n",
    "    print(((b**2)-(a**2))//4)\n",
    "elif(a%2==1 and b%2==1):\n",
    "    print(((a+b)//2)*(((b-a)//2)+1))\n",
    "elif(a%2==0 and b%2==1):\n",
    "    print(((b+a+1)*(b-a+1))//4)\n",
    "else:\n",
    "    print(((b+a-1)*(b-a+1))//4)"
   ]
  },
  {
   "cell_type": "markdown",
   "metadata": {},
   "source": [
    "5.Misha wants to play football with guys and was about to leave the house, but he was caught by mom, who told him that if he won't help her in the house, he will not go to the football. Mom suggested that Misha do one of three things: either wash the dishes, vacuum the apartment, or play with his younger sister Marina, while the mother goes to the store. Misha wondered how long it takes for each case:\n",
    "\n",
    "Washing the dishes takes t1 seconds;\n",
    "Vacuuming the apartment takes t2 seconds;\n",
    "Playing with Marinka takes t3 seconds.\n",
    "It is obvious that Misha will choose the work that takes the least time. Your program must give the time during which Misha will perform the mother's job\n",
    "### Input data\n",
    "Three integers t1,t2,t3\n",
    "### Output data\n",
    "Print the minimum time to do the mom's job for Misha."
   ]
  },
  {
   "cell_type": "code",
   "execution_count": 7,
   "metadata": {},
   "outputs": [
    {
     "name": "stdout",
     "output_type": "stream",
     "text": [
      "22\n"
     ]
    }
   ],
   "source": [
    "t1,t2,t3=(map(int,input().split()))\n",
    "if(t1<=t2 and t1<=t3):\n",
    "    print(t1)\n",
    "elif(t2<=t1 and t2<=t3):\n",
    "    print(t2)\n",
    "else:\n",
    "    print(t3)"
   ]
  },
  {
   "cell_type": "code",
   "execution_count": 8,
   "metadata": {},
   "outputs": [
    {
     "name": "stdout",
     "output_type": "stream",
     "text": [
      "22\n"
     ]
    }
   ],
   "source": [
    "#or \n",
    "t1,t2,t3=(map(int,input().split()))\n",
    "print(min(t1,t2,t3))"
   ]
  },
  {
   "cell_type": "markdown",
   "metadata": {},
   "source": [
    "6.C-student Sergey often asks A-student Vasya to do his homework. Vasya is genius, but he still cann't cope with the work instantly, so Sergey waits. Sergey is boring long because of nothing to do. Not so long ago he came up with a new game to pass the time.On the white table with coordinate system Sergey puts a rectangular sheet of black paper. Above it he puts a rectangular piece of white paper so that possible it overlaps a portion of the black sheet. The parties of both sheets of paper are parallel to the coordinate axes. After that, the boy chooses a point on the plane of the table. If it hits the black sheet, Serge believes that the expectations are not boring, otherwise he gets upset.\n",
    "Help Sergey to understand, is he upset or not.\n",
    "### Input data\n",
    "First given the coordinates of upper left corner of black rectangle, then bottom right, the the coordinates of angles of white rectangle in the same format and at last the point's coordinates are given. All coordinates are integer.\n",
    "### Output data\n",
    "Print \"SAD\" if Sergey is sad (if the point falls on the boundary, Sergey thinks it belongs to the black sheet), and \"HAPPY\" otherwise."
   ]
  },
  {
   "cell_type": "code",
   "execution_count": 10,
   "metadata": {},
   "outputs": [
    {
     "name": "stdout",
     "output_type": "stream",
     "text": [
      "SAD\n"
     ]
    }
   ],
   "source": [
    "x1,y1,x2,y2,z1,t1,z2,t2,n1,n2=(map(int,input().split()))\n",
    "if(x1>=n1>=x2 and y1>=n2>=y2):\n",
    "    if(z1>n1>z2 and t1>n2>t2):\n",
    "        print(\"SAD\")\n",
    "    elif(z2>n1>z1 and t2>n2>t1):\n",
    "        print(\"SAD\")\n",
    "    elif(z1>n1>z2 and t2>n2>t1):\n",
    "        print(\"SAD\")\n",
    "    elif(z2>n1>z1 and t1>n2>t2):\n",
    "        print(\"SAD\")\n",
    "    else:\n",
    "        print(\"HAPPY\")\n",
    "elif(x2>=n1>=x1 and y2>=n2>=y1):\n",
    "    if(z1>n1>z2 and t1>n2>t2):\n",
    "        print(\"SAD\")\n",
    "    elif(z2>n1>z1 and t2>n2>t1):\n",
    "        print(\"SAD\")\n",
    "    elif(z1>n1>z2 and t2>n2>t1):\n",
    "        print(\"SAD\")\n",
    "    elif(z2>n1>z1 and t1>n2>t2):\n",
    "        print(\"SAD\")\n",
    "    else:\n",
    "        print(\"HAPPY\")\n",
    "elif(x2>=n1>=x1 and y1>=n2>=y2):\n",
    "    if(z1>n1>z2 and t1>n2>t2):\n",
    "        print(\"SAD\")\n",
    "    elif(z2>n1>z1 and t2>n2>t1):\n",
    "        print(\"SAD\")\n",
    "    elif(z1>n1>z2 and t2>n2>t1):\n",
    "        print(\"SAD\")\n",
    "    elif(z2>n1>z1 and t1>n2>t2):\n",
    "        print(\"SAD\")\n",
    "    else:\n",
    "        print(\"HAPPY\")\n",
    "elif(x1>=n1>=x2 and y2>=n2>=y1):\n",
    "    if(z1>n1>z2 and t1>n2>t2):\n",
    "        print(\"SAD\")\n",
    "    elif(z2>n1>z1 and t2>n2>t1):\n",
    "        print(\"SAD\")\n",
    "    elif(z1>n1>z2 and t2>n2>t1):\n",
    "        print(\"SAD\")\n",
    "    elif(z2>n1>z1 and t1>n2>t2):\n",
    "        print(\"SAD\")\n",
    "    else:\n",
    "        print(\"HAPPY\")\n",
    "else:\n",
    "    print(\"SAD\")"
   ]
  },
  {
   "cell_type": "markdown",
   "metadata": {},
   "source": [
    "7.Recently new tenants arrived in Moscow Zoo-n canaries. While the poor chicks languish in temporary uncomfortable containers, the Council of ornithologists in the meeting room of the zoo decide their fate. The scientists have to decide how best to allocate n canaries in available k birdcages in a zoo, so that no birdcage left empty. As the main criterion for placing a bird is a comfort, the ornithologists are primarily interested in amount of canaries in the most populated cage (the cage with with the maximum number of canaries).You are the chief (and, sadly, the only) programmer in a zoo who must estimate this value, that is to find a minimum and maximum number of birds that can be in the most populated cage, if no cage remains empty.\n",
    "### Input data\n",
    "Two integers: the number of canaries n and the number of birdcages k \n",
    "### Output data\n",
    "Print two integers: the minimum and the maximum possible number of canaries in the most populated cage."
   ]
  },
  {
   "cell_type": "code",
   "execution_count": 11,
   "metadata": {},
   "outputs": [
    {
     "name": "stdout",
     "output_type": "stream",
     "text": [
      "2 4\n"
     ]
    }
   ],
   "source": [
    "n,k=(map(int,input().split()))\n",
    "if(n%k==0):\n",
    "    min=n//k\n",
    "    max=(n-k)+1\n",
    "    print(min,max)\n",
    "else:\n",
    "    min=(n//k)+1\n",
    "    max=(n-k)+1\n",
    "    print(min,max)"
   ]
  },
  {
   "cell_type": "markdown",
   "metadata": {},
   "source": [
    "8.The pupils from 10-B class decided in the autumn holiday to go on an excursion to the capital. Knowing the number of boys n and girls m, determine how many rooms you need to book in a hotel, if each room has k beds and it is forbidden to settle boys and girls together.\n",
    "### Input data\n",
    "One line contains three numbers n, m, k \n",
    "### Output data\n",
    "Print one number - the number of rooms to book in the hotel."
   ]
  },
  {
   "cell_type": "code",
   "execution_count": 12,
   "metadata": {},
   "outputs": [
    {
     "name": "stdout",
     "output_type": "stream",
     "text": [
      "6\n"
     ]
    }
   ],
   "source": [
    "n,m,k=(map(int,input().split()))\n",
    "\n",
    "if(n%k==0 and m%k==0):\n",
    "    a=(n+m)//k\n",
    "    print(a)\n",
    "elif(n%k!=0 and m%k==0):\n",
    "    a=(n//k)+1\n",
    "    b=m//k\n",
    "    c=a+b\n",
    "    print(c)\n",
    "elif(n%k==0 and m%k!=0):\n",
    "    a=n//k\n",
    "    b=(m//k)+1\n",
    "    c=a+b\n",
    "    print(c)\n",
    "else:\n",
    "    a=(n//k)+1\n",
    "    b=(m//k)+1\n",
    "    c=a+b\n",
    "    print(c)"
   ]
  },
  {
   "cell_type": "markdown",
   "metadata": {},
   "source": [
    "9.One integer n is given. Print whether it is positive, negative or equals to 0.\n",
    "### Input data\n",
    "One integer n\n",
    "### Output data\n",
    "Print \"Positive\", \"Negative\" or \"Zero\" depending on the value of n."
   ]
  },
  {
   "cell_type": "code",
   "execution_count": 16,
   "metadata": {},
   "outputs": [
    {
     "name": "stdout",
     "output_type": "stream",
     "text": [
      "Zero\n"
     ]
    }
   ],
   "source": [
    "n=int(input())\n",
    "if(n==0):\n",
    "    print('Zero')\n",
    "elif(n<0):\n",
    "    print('Negative')\n",
    "else:\n",
    "    print('Positive')"
   ]
  }
 ],
 "metadata": {
  "kernelspec": {
   "display_name": "base",
   "language": "python",
   "name": "python3"
  },
  "language_info": {
   "codemirror_mode": {
    "name": "ipython",
    "version": 3
   },
   "file_extension": ".py",
   "mimetype": "text/x-python",
   "name": "python",
   "nbconvert_exporter": "python",
   "pygments_lexer": "ipython3",
   "version": "3.11.4"
  }
 },
 "nbformat": 4,
 "nbformat_minor": 2
}
