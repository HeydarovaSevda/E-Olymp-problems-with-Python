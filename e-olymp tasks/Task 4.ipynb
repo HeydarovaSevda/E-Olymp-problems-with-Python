{
 "cells": [
  {
   "cell_type": "markdown",
   "metadata": {},
   "source": [
    "## Week2_3 IF"
   ]
  },
  {
   "cell_type": "markdown",
   "metadata": {},
   "source": [
    "1.Determine the level of educational achievements for the pupil (elementary, average, sufficient, high) according to the given grade (from 1 to 12).\n",
    "### Input data\n",
    "One number that is a grade for the pupil.\n",
    "### Output data\n",
    "Print Initial for elementary level (grade from 1 to 3), Average for average level (grade from 4 to 6), Sufficient for sufficient level (grade from 7 to 9) and High for high level (grade from 10 to 12)."
   ]
  },
  {
   "cell_type": "code",
   "execution_count": 3,
   "metadata": {},
   "outputs": [],
   "source": [
    "n=int(input())\n",
    "if(n<=3 and n>=1):\n",
    "    print(\"Initial\")\n",
    "elif(n<=6 and n>=4):\n",
    "    print(\"Average\")\n",
    "elif(n<=9 and n>=7):\n",
    "    print(\"Sufficient\")\n",
    "elif(n<=12 and n>=10):\n",
    "    print(\"High\")"
   ]
  },
  {
   "cell_type": "markdown",
   "metadata": {},
   "source": [
    "2.Decompose a given 3-digit number to digits.\n",
    "### Input data\n",
    "One three digit integer (positive or negative).\n",
    "### Output data\n",
    "Print each digit in separate line "
   ]
  },
  {
   "cell_type": "code",
   "execution_count": 6,
   "metadata": {},
   "outputs": [
    {
     "name": "stdout",
     "output_type": "stream",
     "text": [
      "7\n",
      "8\n",
      "5\n"
     ]
    }
   ],
   "source": [
    "n=int(input())\n",
    "if(n>0):\n",
    "    a=n//100\n",
    "    b=n//10%10\n",
    "    c=n%10\n",
    "    print(a)\n",
    "    print(b)\n",
    "    print(c)\n",
    "elif(n<0):\n",
    "    a=n//(-100)\n",
    "    b=n//(-10)%10\n",
    "    c=(-n)%10\n",
    "    print(a)\n",
    "    print(b)\n",
    "    print(c)"
   ]
  },
  {
   "cell_type": "markdown",
   "metadata": {},
   "source": [
    "3.Find minimum and maximum between two positive integers.\n",
    "### Input data\n",
    "Two positive integers a and b\n",
    "### Output data\n",
    "Print in one line the minimum and then maximum between two numbers a and b."
   ]
  },
  {
   "cell_type": "code",
   "execution_count": 9,
   "metadata": {},
   "outputs": [
    {
     "name": "stdout",
     "output_type": "stream",
     "text": [
      "5 77\n"
     ]
    }
   ],
   "source": [
    "a,b=(map(int,input().split()))\n",
    "if(a>b):\n",
    "    print(b,a)\n",
    "else:\n",
    "    print(a,b)"
   ]
  },
  {
   "cell_type": "markdown",
   "metadata": {},
   "source": [
    "4.Determine if the houses with numbers n and m are located on one side of the street.\n",
    "### Input data\n",
    "Two numbers n and m.\n",
    "### Output data\n",
    "Print 1 if the houses with numbers n and m are located on one side of the street and 0 otherwise."
   ]
  },
  {
   "cell_type": "code",
   "execution_count": 11,
   "metadata": {},
   "outputs": [
    {
     "name": "stdout",
     "output_type": "stream",
     "text": [
      "0\n"
     ]
    }
   ],
   "source": [
    "n,m=(map(int,input().split()))\n",
    "if(n%2==0 and m%2==0):\n",
    "    print(\"1\")\n",
    "elif(n%2==1 and m%2==1):\n",
    "    print(\"1\")\n",
    "else:\n",
    "    print(\"0\")"
   ]
  },
  {
   "cell_type": "markdown",
   "metadata": {},
   "source": [
    "5.Four numbers a, b, c, d are given. Find the maximum among them.\n",
    "### Input data\n",
    "Four integers.\n",
    "### Output data\n",
    "Print the maximum among four numbers."
   ]
  },
  {
   "cell_type": "code",
   "execution_count": 13,
   "metadata": {},
   "outputs": [
    {
     "name": "stdout",
     "output_type": "stream",
     "text": [
      "9\n"
     ]
    }
   ],
   "source": [
    "a,b,c,d=(map(int,input().split()))\n",
    "if(a>=b and a>=c and a>=d):\n",
    "    print(a)\n",
    "elif(b>=a and b>=c and b>=d):\n",
    "    print(b)\n",
    "elif(c>=a and c>=b and c>=d):\n",
    "    print(c)\n",
    "else:\n",
    "    print(d)"
   ]
  },
  {
   "cell_type": "markdown",
   "metadata": {},
   "source": [
    "6.Positive integer n is given. Determine its parity.\n",
    "### Input data\n",
    "One positive integer n.\n",
    "### Output data\n",
    "If number n is even, print EVEN. If number is odd, print ODD."
   ]
  },
  {
   "cell_type": "code",
   "execution_count": 14,
   "metadata": {},
   "outputs": [
    {
     "name": "stdout",
     "output_type": "stream",
     "text": [
      "EVEN\n"
     ]
    }
   ],
   "source": [
    "n=int(input())\n",
    "if(n%2==0):\n",
    "    print(\"EVEN\")\n",
    "else:\n",
    "    print(\"ODD\")"
   ]
  },
  {
   "cell_type": "markdown",
   "metadata": {},
   "source": [
    "7.Find the value of y according to the next condition:\n",
    "𝑦={(𝑥^2−3𝑥+4, 𝑥<5),(𝑥+7, 𝑥≥5)}\n",
    "### Input data\n",
    "One integer x\n",
    "### Output data\n",
    "Print the value of y according to the conditional statement above."
   ]
  },
  {
   "cell_type": "code",
   "execution_count": 3,
   "metadata": {},
   "outputs": [
    {
     "name": "stdout",
     "output_type": "stream",
     "text": [
      "17\n"
     ]
    }
   ],
   "source": [
    "x=int(input())\n",
    "if(x<5):\n",
    "    y=pow(x,2)-3*x+4\n",
    "    print(y)\n",
    "else:\n",
    "    y=x+7\n",
    "    print(y)"
   ]
  },
  {
   "cell_type": "markdown",
   "metadata": {},
   "source": [
    "8.Find the value of y according to condition: 𝑦={(𝑥^3+5x, 𝑥≥10),(𝑥^2-2x+4, 𝑥<10)}\n",
    "### Input data\n",
    "One integer x\n",
    "### Output data\n",
    "Print the value of y according to the conditional statement above.\n"
   ]
  },
  {
   "cell_type": "code",
   "execution_count": 6,
   "metadata": {},
   "outputs": [
    {
     "name": "stdout",
     "output_type": "stream",
     "text": [
      "8100\n"
     ]
    }
   ],
   "source": [
    "x=int(input())\n",
    "if(x<10):\n",
    "    y=pow(x,2)-2*x+4\n",
    "    print(y)\n",
    "else:\n",
    "    y=pow(x,3)+5*x\n",
    "    print(y)"
   ]
  },
  {
   "cell_type": "markdown",
   "metadata": {},
   "source": [
    "9.Given positive integers a and b. Check if a is divisible by b.\n",
    "### Input data\n",
    "Two positive integers a and b\n",
    "### Output data\n",
    "If a is not divisible by b, print in one line the quotient and the remainder of dividing a by b. Otherwise print \"Divisible\"."
   ]
  },
  {
   "cell_type": "code",
   "execution_count": 8,
   "metadata": {},
   "outputs": [
    {
     "name": "stdout",
     "output_type": "stream",
     "text": [
      "Divisible\n"
     ]
    }
   ],
   "source": [
    "a,b=(map(int,input().split()))\n",
    "if(a%b==0):\n",
    "    print(\"Divisible\")\n",
    "else:\n",
    "    q=a//b\n",
    "    r=a%b\n",
    "    print(q,r)"
   ]
  }
 ],
 "metadata": {
  "kernelspec": {
   "display_name": "base",
   "language": "python",
   "name": "python3"
  },
  "language_info": {
   "codemirror_mode": {
    "name": "ipython",
    "version": 3
   },
   "file_extension": ".py",
   "mimetype": "text/x-python",
   "name": "python",
   "nbconvert_exporter": "python",
   "pygments_lexer": "ipython3",
   "version": "3.11.4"
  }
 },
 "nbformat": 4,
 "nbformat_minor": 2
}
