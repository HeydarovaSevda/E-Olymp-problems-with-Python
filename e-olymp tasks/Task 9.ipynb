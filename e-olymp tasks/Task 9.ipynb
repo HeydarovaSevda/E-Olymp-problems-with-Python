{
 "cells": [
  {
   "cell_type": "markdown",
   "metadata": {},
   "source": [
    "## WEEK3_4 LOOP"
   ]
  },
  {
   "cell_type": "markdown",
   "metadata": {},
   "source": [
    "1.You are given the number of kinds of the toys in the shop, the number of toys of each kind and cost of a toy of each kind. Find the number of toys with cost less than 50 grn.\n",
    "### Input data\n",
    "The first line contains the number of kinds of the toys n.Each of the next n lines contains two numbers: the number of toys a of the next kind and their price b in grn.\n",
    "### Output data\n",
    "Print the number of toys with cost less than 50 grn."
   ]
  },
  {
   "cell_type": "code",
   "execution_count": 1,
   "metadata": {},
   "outputs": [
    {
     "name": "stdout",
     "output_type": "stream",
     "text": [
      "15\n"
     ]
    }
   ],
   "source": [
    "n=int(input())\n",
    "sum=0\n",
    "for i in range(0,n):\n",
    "    a,b=(map(float,input().split()))\n",
    "    if b<50:\n",
    "        sum=sum+a  \n",
    "print(int(sum))"
   ]
  },
  {
   "cell_type": "markdown",
   "metadata": {},
   "source": [
    "2.Find the ratio of the product of digits of natural number to their sum.\n",
    "### Input data\n",
    "One positive integer n.\n",
    "### Output data\n",
    "The desired ratio, calculated with 3 decimal digits."
   ]
  },
  {
   "cell_type": "code",
   "execution_count": 2,
   "metadata": {},
   "outputs": [
    {
     "name": "stdout",
     "output_type": "stream",
     "text": [
      "2.000\n"
     ]
    }
   ],
   "source": [
    "n=input()\n",
    "list1=[int(i) for i in n]\n",
    "s=0\n",
    "p=1\n",
    "for j in list1:\n",
    "    s=s+j\n",
    "    p=p*j\n",
    "ratio=p/s\n",
    "print(format(ratio,'.3f'))"
   ]
  },
  {
   "cell_type": "markdown",
   "metadata": {},
   "source": [
    "3.Ivan Vasilyevich came to the market and decided to buy two watermelons: one for himself and another for the wife's mother. It is clear to choose for himself the heaviest watermelon, and for mother-in-law the lightest. But there is one problem: there are many watermelons and he does not know how to choose the lightest and the heaviest one. Help him!\n",
    "### Input data\n",
    "The first line contains the number of watermelons n. The second line contains n numbers, each number is a mass of corresponding watermelon. All weights of watermelons are positive integers and do not exceed 30000.\n",
    "### Output data\n",
    "Print two numbers: the weight of watermelon that Ivan Vasilyevich will buy for his mother-in-law and the weight of watermelon that he will buy himself, or print the message \"Ooops!\" (without quotes), if someone left without watermelon."
   ]
  },
  {
   "cell_type": "code",
   "execution_count": 7,
   "metadata": {},
   "outputs": [
    {
     "name": "stdout",
     "output_type": "stream",
     "text": [
      "Ooops!\n"
     ]
    }
   ],
   "source": [
    "n=int(input())\n",
    "if n<2:\n",
    "    print(\"Ooops!\")\n",
    "else:\n",
    "    s=input()\n",
    "    l=s.split()\n",
    "    a=int(l[0])\n",
    "    b=int(l[0])\n",
    "    for i in range(1,len(l)):\n",
    "        x=int(l[i])\n",
    "        a=min(a,x)\n",
    "        b=max(b,x)\n",
    "    print(a,b)"
   ]
  },
  {
   "cell_type": "markdown",
   "metadata": {},
   "source": [
    "4.You are given the value of n and a. Determine the answer for the following series: ∑𝑖∗𝑎^𝑖 from i=1 to n\n",
    "### Input data\n",
    "Two positive integers n and a.\n",
    "### Output data\n",
    "Print the value of sum. "
   ]
  },
  {
   "cell_type": "code",
   "execution_count": 8,
   "metadata": {},
   "outputs": [
    {
     "name": "stdout",
     "output_type": "stream",
     "text": [
      "102\n"
     ]
    }
   ],
   "source": [
    "n,a=(map(int,input().split()))\n",
    "\n",
    "powa=1\n",
    "if a==1:\n",
    "    sum=n*(n+1)//2\n",
    "else:\n",
    "    sum=0\n",
    "    for i in range(1,n+1):\n",
    "        powa=powa*a\n",
    "        sum=sum+i*powa\n",
    "print(sum)"
   ]
  },
  {
   "cell_type": "markdown",
   "metadata": {},
   "source": [
    "5.Find the second digit of an integer. Start counting digits from the leftmost one.\n",
    "### Input data\n",
    "One integer n that contains at least two digits. The number n can be negative.\n",
    "### Output data\n",
    "Print the second digit of n."
   ]
  },
  {
   "cell_type": "code",
   "execution_count": 9,
   "metadata": {},
   "outputs": [
    {
     "name": "stdout",
     "output_type": "stream",
     "text": [
      "3\n"
     ]
    }
   ],
   "source": [
    "n=input()\n",
    "list1=[a for a in n]\n",
    "if list1[0]=='-':\n",
    "    print(list1[2])\n",
    "else:\n",
    "    print(list1[1])"
   ]
  },
  {
   "cell_type": "markdown",
   "metadata": {},
   "source": [
    "6.Write a nonnegative integer n in reverse order.\n",
    "### Input data\n",
    "One nonnegative integer.\n",
    "### Output data\n",
    "Print the number in reverse order"
   ]
  },
  {
   "cell_type": "code",
   "execution_count": 10,
   "metadata": {},
   "outputs": [
    {
     "name": "stdout",
     "output_type": "stream",
     "text": [
      "4321\n"
     ]
    }
   ],
   "source": [
    "n=input()\n",
    "y=''\n",
    "for i in range(0,len(n)):\n",
    "    y=n[i]+y\n",
    "print(y)"
   ]
  },
  {
   "cell_type": "markdown",
   "metadata": {},
   "source": [
    "7.Count the number of digits a in number n.\n",
    "### Input data\n",
    "The first line contains one integer number n. Number n can be negative. The second line contains digit a.\n",
    "### Output data\n",
    "Print the number of digits a in number n."
   ]
  },
  {
   "cell_type": "code",
   "execution_count": 11,
   "metadata": {},
   "outputs": [
    {
     "name": "stdout",
     "output_type": "stream",
     "text": [
      "2\n"
     ]
    }
   ],
   "source": [
    "number=int(input())\n",
    "digit=int(input())\n",
    "n=0\n",
    "if number>0:\n",
    "    while number>0:\n",
    "        m=number%10\n",
    "        if m==digit:\n",
    "            n=n+1\n",
    "        number//=10\n",
    "\n",
    "\n",
    "else:\n",
    "    number2=number*(-1)\n",
    "    while number2>0:\n",
    "        m=number2%10\n",
    "        if m==digit:\n",
    "            n=n+1\n",
    "        number2//=10\n",
    "\n",
    "print(n)"
   ]
  },
  {
   "cell_type": "markdown",
   "metadata": {},
   "source": []
  }
 ],
 "metadata": {
  "kernelspec": {
   "display_name": "base",
   "language": "python",
   "name": "python3"
  },
  "language_info": {
   "codemirror_mode": {
    "name": "ipython",
    "version": 3
   },
   "file_extension": ".py",
   "mimetype": "text/x-python",
   "name": "python",
   "nbconvert_exporter": "python",
   "pygments_lexer": "ipython3",
   "version": "3.11.4"
  }
 },
 "nbformat": 4,
 "nbformat_minor": 2
}
