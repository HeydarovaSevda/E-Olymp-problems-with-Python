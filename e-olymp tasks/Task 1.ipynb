{
 "cells": [
  {
   "cell_type": "markdown",
   "metadata": {},
   "source": [
    "# Week1_1\n"
   ]
  },
  {
   "cell_type": "markdown",
   "metadata": {},
   "source": [
    "1.Write a program which reads a two-digit number and prints every digit, separated by a space.\n",
    "### Input data\n",
    "One integer from 10 to 99 inclusively.\n",
    "### Output data\n",
    "Print two digits separated by a space."
   ]
  },
  {
   "cell_type": "code",
   "execution_count": 1,
   "metadata": {},
   "outputs": [
    {
     "name": "stdout",
     "output_type": "stream",
     "text": [
      "2 3\n"
     ]
    }
   ],
   "source": [
    "n=int(input())\n",
    "a=n//10\n",
    "b=n%10\n",
    "print(a,b)"
   ]
  },
  {
   "cell_type": "markdown",
   "metadata": {},
   "source": [
    "2.Mom asked Vasya to water all the young trees in the garden. Vasya knows that while trees are small, they must be very well watered. But how much to water - is unknown. But Vasya is a very clever boy. He carefully read the entire textbook of botany for secondary schools and found that irrigation is directly proportional to the number of leaves on the tree. For a good tree growth enough to pour under the tree every day for one liter of water for each leaf.\n",
    "\n",
    "Fortunately Wasya found that the leaves on the trees are growing in layers, with the upper layer of two leafs, the second - four at the next - six, and so on, at each successive layer two leafs more than at previous one. And at the very tip of growing another leaf. Sly Vasya sent his younger sister Masha to count the number of layers for each tree, and asks you to write a program that for each tree compute the number of liters of water for its irrigation.\n",
    "### Input data\n",
    "The number of layers n (0 ≤ n ≤ 1000) in the tree.\n",
    "### Output data\n",
    "Print the number of liters of water to pour the tree.\n"
   ]
  },
  {
   "cell_type": "code",
   "execution_count": 2,
   "metadata": {},
   "outputs": [
    {
     "name": "stdout",
     "output_type": "stream",
     "text": [
      "13\n"
     ]
    }
   ],
   "source": [
    "n=int(input())\n",
    "s=n*(n+1)+1\n",
    "\n",
    "print(s)"
   ]
  },
  {
   "cell_type": "markdown",
   "metadata": {},
   "source": [
    "3.Find the sum of the squares of two numbers.\n",
    "### Input data\n",
    "Two integers a and b.\n",
    "### Output data\n",
    "Print a single integer a^2 + b^2.\n"
   ]
  },
  {
   "cell_type": "code",
   "execution_count": 3,
   "metadata": {},
   "outputs": [
    {
     "name": "stdout",
     "output_type": "stream",
     "text": [
      "13\n"
     ]
    }
   ],
   "source": [
    "s=input()\n",
    "x=s.split()\n",
    "a=int(x[0])\n",
    "b=int(x[1])\n",
    "print(a*a+b*b)"
   ]
  },
  {
   "cell_type": "markdown",
   "metadata": {},
   "source": [
    "4.Three digital number is given. Find the product of its digits.\n",
    "### Input data\n",
    "One three digital positive integer n\n",
    "### Output data\n",
    "Print the product of digits in n\n"
   ]
  },
  {
   "cell_type": "code",
   "execution_count": 5,
   "metadata": {},
   "outputs": [
    {
     "name": "stdout",
     "output_type": "stream",
     "text": [
      "30\n"
     ]
    }
   ],
   "source": [
    "n=int(input())\n",
    "\n",
    "a=n//100\n",
    "b=n//10%10\n",
    "c=n%10\n",
    "s=a*b*c\n",
    "print(s)"
   ]
  },
  {
   "cell_type": "markdown",
   "metadata": {},
   "source": [
    "5.Find the square of the sum of the digits of a two-digit positive integer.\n",
    "### Input data\n",
    "One two-digit positive integer n\n",
    "### Output data\n",
    "Print the square of the sum of the digits of the number n"
   ]
  },
  {
   "cell_type": "code",
   "execution_count": 6,
   "metadata": {},
   "outputs": [
    {
     "name": "stdout",
     "output_type": "stream",
     "text": [
      "25\n"
     ]
    }
   ],
   "source": [
    "n=int(input())\n",
    "a=n//10\n",
    "b=n%10\n",
    "print(pow(a+b,2))"
   ]
  },
  {
   "cell_type": "code",
   "execution_count": 8,
   "metadata": {},
   "outputs": [
    {
     "name": "stdout",
     "output_type": "stream",
     "text": [
      "169\n"
     ]
    }
   ],
   "source": [
    "#2nd way\n",
    "n=int(input())\n",
    "a=n//10\n",
    "b=n%10\n",
    "c=a+b\n",
    "s=(a+b)*(a+b)\n",
    "print(s)"
   ]
  },
  {
   "cell_type": "markdown",
   "metadata": {},
   "source": [
    "6.Print the three digit number without the middle digit.\n",
    "### Input data\n",
    "One three digit integer.\n",
    "### Output data\n",
    "Print the three digit integer without the middle digit.\n"
   ]
  },
  {
   "cell_type": "code",
   "execution_count": 1,
   "metadata": {},
   "outputs": [
    {
     "name": "stdout",
     "output_type": "stream",
     "text": [
      "18\n"
     ]
    }
   ],
   "source": [
    "n=int(input())\n",
    "a=n%10\n",
    "b=n//100\n",
    "c=10*b+a\n",
    "print(c)"
   ]
  },
  {
   "cell_type": "markdown",
   "metadata": {},
   "source": [
    "7.You are given a four-digit positive integer. Form from it a two-digit number consisting of its middle digits.\n",
    "### Input data\n",
    "One four digit positive integer n.\n",
    "### Output data\n",
    "Print the resulting integer. Do not print the leading zeroes."
   ]
  },
  {
   "cell_type": "code",
   "execution_count": 3,
   "metadata": {},
   "outputs": [
    {
     "name": "stdout",
     "output_type": "stream",
     "text": [
      "6\n"
     ]
    }
   ],
   "source": [
    "n=int(input())\n",
    "a=n//10%100\n",
    "print(a)"
   ]
  },
  {
   "cell_type": "markdown",
   "metadata": {},
   "source": [
    "8.Find the sum of all integers from a to b.\n",
    "### Input data\n",
    "Two integers а and b\n",
    "### Output data\n",
    "Print the sum of all integers from a to b."
   ]
  },
  {
   "cell_type": "code",
   "execution_count": 4,
   "metadata": {},
   "outputs": [
    {
     "name": "stdout",
     "output_type": "stream",
     "text": [
      "14\n"
     ]
    }
   ],
   "source": [
    "a,b=map(int,input().split())\n",
    "s=(a+b)*(b-a+1)//2\n",
    "print(s)"
   ]
  },
  {
   "cell_type": "markdown",
   "metadata": {},
   "source": [
    "9.n schoolchildren divide k apples evenly, the residue remains in the basket. How many apples will each child get?\n",
    "### Input data\n",
    "Two positive integers n and k, not greater than 1500 - rarely happens school with more pupils, and too many apples to eat bad ...\n",
    "### Output data\n",
    "Print the number of apples that go to each child."
   ]
  },
  {
   "cell_type": "code",
   "execution_count": 6,
   "metadata": {},
   "outputs": [
    {
     "name": "stdout",
     "output_type": "stream",
     "text": [
      "4\n"
     ]
    }
   ],
   "source": [
    "n=int(input())\n",
    "k=int(input())\n",
    "print(k//n)"
   ]
  },
  {
   "cell_type": "markdown",
   "metadata": {},
   "source": [
    "10.n schoolchildren divide k apples evenly, the residue remains in the basket. How many apples remains in the basket?\n",
    "### Input data\n",
    "Two integers n and k not greater than 1500 - rarely happens in school more pupils, and where to find such a basket?\n",
    "### Output data\n",
    "Print the number of apples in the basket."
   ]
  },
  {
   "cell_type": "code",
   "execution_count": 7,
   "metadata": {},
   "outputs": [
    {
     "name": "stdout",
     "output_type": "stream",
     "text": [
      "2\n"
     ]
    }
   ],
   "source": [
    "n=int(input())\n",
    "k=int(input())\n",
    "print(k%n)"
   ]
  },
  {
   "cell_type": "markdown",
   "metadata": {},
   "source": [
    "11.A hotel has n floors. The lobby, restaurant and gym are located on the first floor. The guestrooms are on 2nd to nth floors. There are m standard rooms on each floor. If each standard room can fit 3 guests, what is the maximum number of guests that all the standard rooms can accommodate?\n",
    "### Input data\n",
    "Two positive integers n and m \n",
    "### Output data\n",
    "Print the maximum number of guests that all the hotel standard rooms can accommodate."
   ]
  },
  {
   "cell_type": "code",
   "execution_count": 8,
   "metadata": {},
   "outputs": [
    {
     "name": "stdout",
     "output_type": "stream",
     "text": [
      "120\n"
     ]
    }
   ],
   "source": [
    "n,m=map(int,input().split())\n",
    "s=3*m*(n-1)\n",
    "print(s)"
   ]
  },
  {
   "cell_type": "code",
   "execution_count": null,
   "metadata": {},
   "outputs": [],
   "source": []
  }
 ],
 "metadata": {
  "kernelspec": {
   "display_name": "base",
   "language": "python",
   "name": "python3"
  },
  "language_info": {
   "codemirror_mode": {
    "name": "ipython",
    "version": 3
   },
   "file_extension": ".py",
   "mimetype": "text/x-python",
   "name": "python",
   "nbconvert_exporter": "python",
   "pygments_lexer": "ipython3",
   "version": "3.11.4"
  }
 },
 "nbformat": 4,
 "nbformat_minor": 2
}
