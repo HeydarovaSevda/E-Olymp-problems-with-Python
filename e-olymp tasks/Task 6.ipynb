{
 "cells": [
  {
   "cell_type": "markdown",
   "metadata": {},
   "source": [
    "## WEEK3_1 LOOP"
   ]
  },
  {
   "cell_type": "markdown",
   "metadata": {},
   "source": [
    "1.At informatics lessons you have probably been taught to transform the numbers from one number system to another, and to perform other similar operations. It's time to demonstrate this knowledge. Find the number of ones in binary representation of a number.\n",
    "### Input data\n",
    "One integer n\n",
    "### Output data\n",
    "Print the number of ones in binary representation of n."
   ]
  },
  {
   "cell_type": "code",
   "execution_count": 1,
   "metadata": {},
   "outputs": [
    {
     "name": "stdout",
     "output_type": "stream",
     "text": [
      "2\n"
     ]
    }
   ],
   "source": [
    "n=int(input())\n",
    "s=0\n",
    "while n!=0:\n",
    "    if n%2==1:\n",
    "        s=s+1\n",
    "    n=n//2\n",
    "print(s)"
   ]
  },
  {
   "cell_type": "markdown",
   "metadata": {},
   "source": [
    "2.Find the sum of the digits of an integer n.\n",
    "### Input data\n",
    "Integer n (the number can be negative).\n",
    "### Output data\n",
    "Print the sum of the digits for number n"
   ]
  },
  {
   "cell_type": "code",
   "execution_count": 2,
   "metadata": {},
   "outputs": [
    {
     "name": "stdout",
     "output_type": "stream",
     "text": [
      "6\n"
     ]
    }
   ],
   "source": [
    "n=int(input())\n",
    "\n",
    "if n>=0:\n",
    "    sum=0\n",
    "    while n>0:\n",
    "        m=n%10\n",
    "        sum+=m\n",
    "        n=n//10\n",
    "    print(sum)\n",
    "\n",
    "else:\n",
    "    sum=0\n",
    "    s=n*(-1)\n",
    "    while s>0:\n",
    "        m=s%10\n",
    "        sum+=m\n",
    "        s=s//10\n",
    "    print(sum)"
   ]
  },
  {
   "cell_type": "markdown",
   "metadata": {},
   "source": [
    "3.Find the sum of the first and the last digit of an integer.\n",
    "### Input data\n",
    "number n that consists of at least two digits. The number n can be positive or negative.\n",
    "### Output data\n",
    "Print the sum of the first and the last digit of n."
   ]
  },
  {
   "cell_type": "code",
   "execution_count": 4,
   "metadata": {},
   "outputs": [
    {
     "name": "stdout",
     "output_type": "stream",
     "text": [
      "10\n"
     ]
    }
   ],
   "source": [
    "n=int(input())\n",
    "\n",
    "if n>=0:\n",
    "    sum=0\n",
    "    m=n%10\n",
    "    while n>=10:\n",
    "        n=n//10\n",
    "    sum=sum+n+m\n",
    "    print(sum)\n",
    "else:\n",
    "    sum=0\n",
    "    s=n*(-1)\n",
    "    m=s%10\n",
    "    while s>=10:\n",
    "        s=s//10\n",
    "    sum=sum+s+m\n",
    "    print(sum)"
   ]
  },
  {
   "cell_type": "markdown",
   "metadata": {},
   "source": [
    "4.Write a nonnegative integer n in reverse order.\n",
    "### Input data\n",
    "Nonnegative integer n.\n",
    "### Output data\n",
    "Print the number in reverse order."
   ]
  },
  {
   "cell_type": "code",
   "execution_count": 5,
   "metadata": {},
   "outputs": [
    {
     "name": "stdout",
     "output_type": "stream",
     "text": [
      "001\n"
     ]
    }
   ],
   "source": [
    "n=input()\n",
    "y=''\n",
    "for i in range(0,len(n)):\n",
    "    y=n[i]+y\n",
    "print(y)"
   ]
  },
  {
   "cell_type": "markdown",
   "metadata": {},
   "source": [
    "5.Count the number of digits a in number n.\n",
    "### Input data\n",
    "The first line contains one integer number n. Number n can be negative. The second line contains a digit a.\n",
    "### Output data\n",
    "Print the number of digits a in number n."
   ]
  },
  {
   "cell_type": "code",
   "execution_count": 7,
   "metadata": {},
   "outputs": [
    {
     "name": "stdout",
     "output_type": "stream",
     "text": [
      "4\n"
     ]
    }
   ],
   "source": [
    "number=int(input())\n",
    "digit=int(input())\n",
    "n=0\n",
    "if number>0:\n",
    "    while number>0:\n",
    "        m=number%10\n",
    "        if m==digit:\n",
    "            n=n+1\n",
    "        number//=10\n",
    "\n",
    "\n",
    "else:\n",
    "    number2=number*(-1)\n",
    "    while number2>0:\n",
    "        m=number2%10\n",
    "        if m==digit:\n",
    "            n=n+1\n",
    "        number2//=10\n",
    "\n",
    "print(n)"
   ]
  },
  {
   "cell_type": "markdown",
   "metadata": {},
   "source": [
    "6.Divisibility by 11 is often stated as follows: add the digits standing separately at even and at odd positions. If the difference of these sums is divisible by 11, then the number is divisible by 11. Calculate the product of these sums.\n",
    "### Input data\n",
    "A positive integer n\n",
    "### Output data\n",
    "Print the product of sums of digits at even and at odd positions."
   ]
  },
  {
   "cell_type": "code",
   "execution_count": 9,
   "metadata": {},
   "outputs": [
    {
     "name": "stdout",
     "output_type": "stream",
     "text": [
      "36\n"
     ]
    }
   ],
   "source": [
    "n=input()\n",
    "odd_sum=0\n",
    "even_sum=0\n",
    "for i in range(0,len(n),2):\n",
    "    odd_sum=int(n[i])+odd_sum\n",
    "for j in range(1,len(n),2):\n",
    "    even_sum=int(n[j])+even_sum\n",
    "print(odd_sum*even_sum)"
   ]
  },
  {
   "cell_type": "markdown",
   "metadata": {},
   "source": [
    "7.Bob is a the honors pupil. He enjoys every five that he sees in a number. Every morning, he goes by bus and counts the number of fives in his bus ticket. According to the ancient omen (valid from the 2 - class), he knows that this day he will receive such number of fives, how many of them in his ticket. Given today's Vasya's ticket number, determine how many fives he will get today.\n",
    "### Input data\n",
    "Vasya's a ticket number n.\n",
    "### Output data\n",
    "Print the number of fives that Bob will get."
   ]
  },
  {
   "cell_type": "code",
   "execution_count": 10,
   "metadata": {},
   "outputs": [
    {
     "name": "stdout",
     "output_type": "stream",
     "text": [
      "1\n"
     ]
    }
   ],
   "source": [
    "number=int(input())\n",
    "n=0\n",
    "while number>0:\n",
    "        m=number%10\n",
    "        if m==5:\n",
    "            n=n+1\n",
    "        number//=10\n",
    "print(n)"
   ]
  },
  {
   "cell_type": "markdown",
   "metadata": {},
   "source": [
    "8.Find the first digit of an integer. Start count digits from the leftmost one.\n",
    "### Input data\n",
    "One integer containing at least one digits. The number can be negative.\n",
    "### Output data\n",
    "Print the first digit of a given integer."
   ]
  },
  {
   "cell_type": "code",
   "execution_count": 12,
   "metadata": {},
   "outputs": [
    {
     "name": "stdout",
     "output_type": "stream",
     "text": [
      "9\n"
     ]
    }
   ],
   "source": [
    "n=int(input())\n",
    "if n>0:\n",
    "    while n>=10:\n",
    "        n//=10\n",
    "    print(n)\n",
    "else:\n",
    "    s=n*(-1)\n",
    "    while s>=10:\n",
    "        s//=10\n",
    "    print(s)"
   ]
  },
  {
   "cell_type": "markdown",
   "metadata": {},
   "source": [
    "9.Print all four digit numbers from a to b with different digits.\n",
    "### Input data\n",
    "Two integers a and b.\n",
    "### Output data\n",
    "Print in one line all numbers from a to b with different digits."
   ]
  },
  {
   "cell_type": "code",
   "execution_count": 13,
   "metadata": {},
   "outputs": [
    {
     "name": "stdout",
     "output_type": "stream",
     "text": [
      "2013 2014 2015 "
     ]
    }
   ],
   "source": [
    "a,b=(map(int,input().split()))\n",
    "for n in range(a,b+1):\n",
    "    s=n//1000\n",
    "    t=n//100%10\n",
    "    d=n//10%10\n",
    "    c=n%10\n",
    "    if s!=t and s!=d and s!=c and t!=d and t!=c and d!=c:\n",
    "        print(n, end = \" \")"
   ]
  }
 ],
 "metadata": {
  "kernelspec": {
   "display_name": "base",
   "language": "python",
   "name": "python3"
  },
  "language_info": {
   "codemirror_mode": {
    "name": "ipython",
    "version": 3
   },
   "file_extension": ".py",
   "mimetype": "text/x-python",
   "name": "python",
   "nbconvert_exporter": "python",
   "pygments_lexer": "ipython3",
   "version": "3.11.4"
  }
 },
 "nbformat": 4,
 "nbformat_minor": 2
}
