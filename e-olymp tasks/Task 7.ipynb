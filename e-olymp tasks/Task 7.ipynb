{
 "cells": [
  {
   "cell_type": "markdown",
   "metadata": {},
   "source": [
    "## WEEK3_2 LOOP"
   ]
  },
  {
   "cell_type": "markdown",
   "metadata": {},
   "source": [
    "1.Find the maximum digit in a positive integer n.\n",
    "### Input data\n",
    "One positive integer n.\n",
    "### Output data\n",
    "Print the maximum digit in a positive integer n."
   ]
  },
  {
   "cell_type": "code",
   "execution_count": 1,
   "metadata": {},
   "outputs": [
    {
     "name": "stdout",
     "output_type": "stream",
     "text": [
      "7\n"
     ]
    }
   ],
   "source": [
    "n=int(input())\n",
    "largest=0\n",
    "while n>0:\n",
    "    m=n%10\n",
    "    largest=max(m,largest)\n",
    "    n=n//10\n",
    "print(largest)"
   ]
  },
  {
   "cell_type": "markdown",
   "metadata": {},
   "source": [
    "2.Find out how many times the maximum digit appears in the positive integer n.\n",
    "### Input data\n",
    "One positive integer n\n",
    "### Output data\n",
    "Print how many times the maximum digit appears in the positive integer n."
   ]
  },
  {
   "cell_type": "code",
   "execution_count": 2,
   "metadata": {},
   "outputs": [
    {
     "name": "stdout",
     "output_type": "stream",
     "text": [
      "3\n"
     ]
    }
   ],
   "source": [
    "n=int(input())\n",
    "g=n\n",
    "large=0\n",
    "k=0\n",
    "while g>0:\n",
    "    m=g%10\n",
    "    large=max(m,large)\n",
    "    g=g//10\n",
    "while n>0:\n",
    "    c=n%10\n",
    "    if c==large:\n",
    "        k+=1\n",
    "    n//=10\n",
    "print(k)"
   ]
  },
  {
   "cell_type": "markdown",
   "metadata": {},
   "source": [
    "3.Find the number of odd digits in a positive integer n.\n",
    "### Input data\n",
    "One positive integer n.\n",
    "### Output data\n",
    "Print the number of odd digit in positive integer n."
   ]
  },
  {
   "cell_type": "code",
   "execution_count": 6,
   "metadata": {},
   "outputs": [
    {
     "name": "stdout",
     "output_type": "stream",
     "text": [
      "2\n"
     ]
    }
   ],
   "source": [
    "number=int(input())\n",
    "n=0\n",
    "while number>0:\n",
    "    m=number%10\n",
    "    if m%2!=0:\n",
    "        n=n+1\n",
    "    number=number//10\n",
    "print(n)"
   ]
  },
  {
   "cell_type": "markdown",
   "metadata": {},
   "source": [
    "4.Positive integer n is given. Append to it the digit 3 from the left and from the right.\n",
    "### Input data\n",
    "One positive integer n.\n",
    "### Output data\n",
    "Append to the number n the digit 3 from the left and from the right. Print the resulting number."
   ]
  },
  {
   "cell_type": "code",
   "execution_count": 7,
   "metadata": {},
   "outputs": [
    {
     "name": "stdout",
     "output_type": "stream",
     "text": [
      "35453\n"
     ]
    }
   ],
   "source": [
    "n=int(input())\n",
    "print(\"3\"+str(n)+\"3\")"
   ]
  },
  {
   "cell_type": "markdown",
   "metadata": {},
   "source": [
    "5.Print all four digit numbers from a to b with only odd digits.\n",
    "### Input data\n",
    "Two integers a and b.\n",
    "### Output data\n",
    "Print in one line all numbers from a to b with only odd digits."
   ]
  },
  {
   "cell_type": "code",
   "execution_count": 8,
   "metadata": {},
   "outputs": [
    {
     "name": "stdout",
     "output_type": "stream",
     "text": [
      "1111 1113 1115 1117 1119 "
     ]
    }
   ],
   "source": [
    "a,b=(map(int,input().split()))\n",
    "for n in range(a,b+1):\n",
    "    s=n//1000\n",
    "    t=n//100%10\n",
    "    d=n//10%10\n",
    "    c=n%10\n",
    "    if s%2!=0  and t%2!=0 and d%2!=0 and c%2!=0:\n",
    "        print(n, end = \" \")"
   ]
  },
  {
   "cell_type": "markdown",
   "metadata": {},
   "source": [
    "6.Three digit number is called Armstrong number if the sum of cubes of its digits equals to the number. For example, 153 = 1^3 + 5^3 + 3^3 is an Armstrong number. Print all Armstrong numbers from a to b.\n",
    "### Input data\n",
    "Two integers a and b.\n",
    "### Output data\n",
    "Print in one line all Armstrong numbers from a to b."
   ]
  },
  {
   "cell_type": "code",
   "execution_count": 9,
   "metadata": {},
   "outputs": [
    {
     "name": "stdout",
     "output_type": "stream",
     "text": [
      "153 370 371 "
     ]
    }
   ],
   "source": [
    "a,b=(map(int,input().split()))\n",
    "for n in range(a,b+1):\n",
    "    s=n//100\n",
    "    t=n//10%10\n",
    "    c=n%10\n",
    "    armstrong=pow(s,3)+pow(t,3)+pow(c,3)\n",
    "    if n==armstrong:\n",
    "        print(n, end = \" \")"
   ]
  },
  {
   "cell_type": "markdown",
   "metadata": {},
   "source": [
    "7.Four digit number is called Armstrong number if the sum of fourth power of its digits equals to the number. For example, 8208 = 8^4 + 2^4 + 0^4 + 8^4 is an Armstrong number. Print all Armstrong numbers from a to b.\n",
    "### Input data\n",
    "Two integers a and b.\n",
    "### Output data\n",
    "Print in one line all Armstrong numbers from a to b."
   ]
  },
  {
   "cell_type": "code",
   "execution_count": 10,
   "metadata": {},
   "outputs": [
    {
     "name": "stdout",
     "output_type": "stream",
     "text": [
      "1634 "
     ]
    }
   ],
   "source": [
    "a,b=(map(int,input().split()))\n",
    "for n in range(a,b+1):\n",
    "    s=n//1000\n",
    "    t=n//100%10\n",
    "    d=n//10%10\n",
    "    c=n%10\n",
    "    armstrong=pow(s,4)+pow(t,4)+pow(d,4)+pow(c,4)\n",
    "    if n==armstrong:\n",
    "        print(n, end = \" \")"
   ]
  },
  {
   "cell_type": "markdown",
   "metadata": {},
   "source": [
    "8.Find the product of nonzero digits for given integer.\n",
    "### Input data\n",
    "One positive integer n.\n",
    "### Output data\n",
    "Print the product of nonzero digits for number n."
   ]
  },
  {
   "cell_type": "code",
   "execution_count": 11,
   "metadata": {},
   "outputs": [
    {
     "name": "stdout",
     "output_type": "stream",
     "text": [
      "120\n"
     ]
    }
   ],
   "source": [
    "number=int(input())\n",
    "product=1\n",
    "while number>0:\n",
    "    m=number%10\n",
    "    if m!=0:\n",
    "        product*=m\n",
    "    number//=10\n",
    "print(product)"
   ]
  },
  {
   "cell_type": "markdown",
   "metadata": {},
   "source": [
    "9.Remove all even digits from the given positive integer.\n",
    "### Input data\n",
    "One positive integer n.\n",
    "### Output data\n",
    "Print the number n with all even digits removed. If the original number n contains only even digits, print 0."
   ]
  },
  {
   "cell_type": "code",
   "execution_count": 12,
   "metadata": {},
   "outputs": [
    {
     "name": "stdout",
     "output_type": "stream",
     "text": [
      "0\n"
     ]
    }
   ],
   "source": [
    "n=input()\n",
    "num=[i for i in n]\n",
    "lst=[]\n",
    "for x in num:\n",
    "    if x=='1' or x=='3' or x=='5' or x=='7' or x=='9':\n",
    "        lst.append(x)\n",
    "\n",
    "str1 = ''.join(map(str, lst)) \n",
    "if str1=='':\n",
    "    str1='0'\n",
    "print(str1)"
   ]
  }
 ],
 "metadata": {
  "kernelspec": {
   "display_name": "base",
   "language": "python",
   "name": "python3"
  },
  "language_info": {
   "codemirror_mode": {
    "name": "ipython",
    "version": 3
   },
   "file_extension": ".py",
   "mimetype": "text/x-python",
   "name": "python",
   "nbconvert_exporter": "python",
   "pygments_lexer": "ipython3",
   "version": "3.11.4"
  }
 },
 "nbformat": 4,
 "nbformat_minor": 2
}
