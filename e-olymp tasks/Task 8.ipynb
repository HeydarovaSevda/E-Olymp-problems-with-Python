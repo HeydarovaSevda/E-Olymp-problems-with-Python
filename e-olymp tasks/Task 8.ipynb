{
 "cells": [
  {
   "cell_type": "markdown",
   "metadata": {},
   "source": [
    "## WEEK3_3 LOOP"
   ]
  },
  {
   "cell_type": "markdown",
   "metadata": {},
   "source": [
    "1.Lets take some positive integer n. We shall change it nest way: if number is even, divide it by 2, if odd, add 1 to it. After several such changes we always get the number 1. For example, from number 11 we get 12, then 6, 3, 4, 2 and at last 1. So in order to get 1 from 11 we need to make 6 changes.\n",
    "Given a positive integer, find the number of its changes to get 1\n",
    "### Input data\n",
    "One positive integer n.\n",
    "\n",
    "### Output data\n",
    "Print the number of changes for n to get 1."
   ]
  },
  {
   "cell_type": "code",
   "execution_count": 1,
   "metadata": {},
   "outputs": [
    {
     "name": "stdout",
     "output_type": "stream",
     "text": [
      "8\n"
     ]
    }
   ],
   "source": [
    "n=int(input())\n",
    "s=0\n",
    "while n!=1:\n",
    "    if n%2==0:\n",
    "        n=n//2\n",
    "        s=s+1\n",
    "    else:\n",
    "        n=n+1\n",
    "        s=s+1\n",
    "print(s)"
   ]
  },
  {
   "cell_type": "markdown",
   "metadata": {},
   "source": [
    "2.Toy yo-yo consists of a coil, which is wound a thread. If, holding the end of the thread to release the spool, it will be rotating, first drop down, and then by inertia to rise. But the height to which the coil will rise, will be k times less than the height from which she sank. We assume that the coil is stopped, if the height of another rise is less or equal than 1. Write a program that the length of strings l and the coefficient k counts the number of ascents coil to stop. For example, let l = 17 and k = 2, then the coil will rise to the heights of 8.5, 4.25, 2.125, 1.0625, and then stops. So we get 4 lifts.\n",
    "### Input data\n",
    "Two integers l.\n",
    "### Output data\n",
    "Print the number of ascents."
   ]
  },
  {
   "cell_type": "code",
   "execution_count": 2,
   "metadata": {},
   "outputs": [
    {
     "name": "stdout",
     "output_type": "stream",
     "text": [
      "9\n"
     ]
    }
   ],
   "source": [
    "l,k=(map(float,input().split()))\n",
    "say=0\n",
    "while l>k:\n",
    "    l=l/k\n",
    "    say=say+1\n",
    "print(say)"
   ]
  },
  {
   "cell_type": "markdown",
   "metadata": {},
   "source": [
    "3.The positive integer m is called a smooth divisor of n if the quotient and remainder of dividing n by m are equal. The positive integer n is given. Find the number of its smooth divisors.\n",
    "### Input data\n",
    "The positive integer n\n",
    "### Output data\n",
    "Print the required number of smooth divisors for number n."
   ]
  },
  {
   "cell_type": "code",
   "execution_count": 3,
   "metadata": {},
   "outputs": [
    {
     "name": "stdout",
     "output_type": "stream",
     "text": [
      "2\n"
     ]
    }
   ],
   "source": [
    "n=int(input())\n",
    "k=0\n",
    "for m in range(1,n+1):\n",
    "    a=n%m\n",
    "    b=n//m\n",
    "    if a==b:\n",
    "        k=k+1\n",
    "print(k)"
   ]
  },
  {
   "cell_type": "markdown",
   "metadata": {},
   "source": [
    "4.Nicholas must deliver gifts to n children. He wonders in how many ways he can do it. You need to answer this simple question. Since this number may be very large, print the result modulo m \n",
    "### Input data\n",
    "Two positive integers n and m.\n",
    "### Output data\n",
    "Print the number of possible ways deliver presents."
   ]
  },
  {
   "cell_type": "code",
   "execution_count": 5,
   "metadata": {},
   "outputs": [
    {
     "name": "stdout",
     "output_type": "stream",
     "text": [
      "120\n"
     ]
    }
   ],
   "source": [
    "n,m=(map(int,input().split()))\n",
    "if n>m:\n",
    "    print(0)\n",
    "else:\n",
    "    k=1\n",
    "    i=1\n",
    "    while i<=n:\n",
    "        k=((k%m)*(i%m))%m\n",
    "        i=i+1\n",
    "    \n",
    "    print(k)\n"
   ]
  },
  {
   "cell_type": "markdown",
   "metadata": {},
   "source": [
    "5.Find the sum of two numbers.\n",
    "### Input data\n",
    "The first line contains number of test cases. Each test consists of two integers a and b.\n",
    "### Output data\n",
    "For each tests case print in a separate line the sum of two numbers a and b."
   ]
  },
  {
   "cell_type": "code",
   "execution_count": 7,
   "metadata": {},
   "outputs": [
    {
     "name": "stdout",
     "output_type": "stream",
     "text": [
      "5\n",
      "-1\n",
      "11\n"
     ]
    }
   ],
   "source": [
    "t=int(input())\n",
    "\n",
    "for n in range(0,t):\n",
    "    a,b=(map(int,input().split()))\n",
    "    sum=a+b\n",
    "    print(sum)"
   ]
  },
  {
   "cell_type": "markdown",
   "metadata": {},
   "source": [
    "6.Tim is an obsessive soda drinker, he simply cannot get enough. Most annoyingly though, he almost never has any money, so his only obvious legal way to obtain more soda is to take the money he gets when he recycles empty soda bottles to buy new ones. In addition to the empty bottles resulting from his own consumption he sometimes finds empty bottles in the street. One day he was extra thirsty, so he drank sodas until he couldn't afford a new one.\n",
    "### Input data\n",
    "Three non-negative integers e,f,c, where e is the number of empty soda bottles in Tim's possession at the start of the day, f is the number of empty soda bottles found during the day, and c is the number of empty bottles required to buy a new soda.\n",
    "### Output data\n",
    "How many sodas did Tim drink on his extra thirsty day?"
   ]
  },
  {
   "cell_type": "code",
   "execution_count": 1,
   "metadata": {},
   "outputs": [
    {
     "name": "stdout",
     "output_type": "stream",
     "text": [
      "4\n"
     ]
    }
   ],
   "source": [
    "e,f,c=(map(int,input().split()))\n",
    "n=e+f\n",
    "sum=0\n",
    "while n>=c:\n",
    "    q=n%c\n",
    "    sum=sum+n//c\n",
    "    n=n//c+q\n",
    "print(sum)"
   ]
  },
  {
   "cell_type": "markdown",
   "metadata": {},
   "source": [
    "7.At informatics lessons you have probably been taught to transform the numbers from one number system to another, and to perform other similar operations. It's time to demonstrate this knowledge. Find the number of ones in binary representation of a number.\n",
    "### Input data\n",
    "One integer n.\n",
    "### Output data\n",
    "Print the number of ones in binary representation of n."
   ]
  },
  {
   "cell_type": "code",
   "execution_count": 2,
   "metadata": {},
   "outputs": [
    {
     "name": "stdout",
     "output_type": "stream",
     "text": [
      "2\n"
     ]
    }
   ],
   "source": [
    "n=int(input())\n",
    "s=0\n",
    "while n!=0:\n",
    "    if n%2==1:\n",
    "        s=s+1\n",
    "    n=n//2\n",
    "print(s)"
   ]
  },
  {
   "cell_type": "markdown",
   "metadata": {},
   "source": [
    "8.The sequence of real numbers is given. Find the arithmetic mean of positive numbers.\n",
    "### Input data\n",
    "First line contains amount n of real numbers. Next line contains n real numbers\n",
    "### Output data\n",
    "Print the arithmetic mean of positive numbers with 2 digits after decimal point. If the positive numbers do not appear in the sequence, print \"Not Found\" (without quotes)."
   ]
  },
  {
   "cell_type": "code",
   "execution_count": 4,
   "metadata": {},
   "outputs": [
    {
     "name": "stdout",
     "output_type": "stream",
     "text": [
      "4.60\n"
     ]
    }
   ],
   "source": [
    "n=int(input())\n",
    "e=input()\n",
    "l=e.split()\n",
    "summ=0\n",
    "say=0\n",
    "for i in range(n):\n",
    "    \n",
    "    if float(l[i])>0:\n",
    "        summ=summ+float(l[i])\n",
    "        say=say+1\n",
    "    elif float(l[i])<0:\n",
    "        continue\n",
    "        \n",
    "if summ==0:\n",
    "    print(\"Not Found\")\n",
    "else:\n",
    "    print(\"{:.2f}\".format(summ/say))"
   ]
  }
 ],
 "metadata": {
  "kernelspec": {
   "display_name": "base",
   "language": "python",
   "name": "python3"
  },
  "language_info": {
   "codemirror_mode": {
    "name": "ipython",
    "version": 3
   },
   "file_extension": ".py",
   "mimetype": "text/x-python",
   "name": "python",
   "nbconvert_exporter": "python",
   "pygments_lexer": "ipython3",
   "version": "3.10.12"
  }
 },
 "nbformat": 4,
 "nbformat_minor": 2
}
